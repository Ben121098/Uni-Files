{
 "cells": [
  {
   "cell_type": "markdown",
   "metadata": {
    "colab_type": "text",
    "graffitiCellId": "id_gyr7sdu",
    "id": "2d5xtA6Wa2B2"
   },
   "source": [
    "<table style=\"width:100%\"><tr>\n",
    "<td> \n",
    "    \n",
    "<b>Technische Universität Dortmund</b>    \n",
    "Department of Bio- and Chemical Engineering\\\n",
    "Laboratory of Process Automation Systems\\\n",
    "Prof. Dr. Sergio Lucia </td>\n",
    "<td>  <img src=\"tudo_logo.png\" style=\"width: 60%;\" align=\"right\"/> </td>\n",
    "</tr>\n",
    "</table>\n",
    "\n",
    "# Advanced Process Control - Tutorial 08\n",
    "WS 2022 / 2023\n",
    "\n",
    "***\n",
    "\n",
    "## <span class=\"graffiti-highlight graffiti-id_gyr7sdu-id_cdobh1d\"><i></i>Please click here!</span>\n",
    "This should start a live explantion. If you don't hear any sound, please check\n",
    "- volume\n",
    "- do you have [Jupyter Graffiti](https://github.com/willkessler/jupytergraffiti) installed?\n",
    "- Please use Chrome or Firefox\n",
    "\n",
    "**Notice**: You must install an additional Python package to complete this tutorial. Please add [Pypoman](https://pypi.org/project/pypoman/) to your environment. This package must be installed through pip, e.g. from the terminal with:\n",
    "```console\n",
    "pip install pypoman\n",
    "```\n",
    "\n",
    "\n",
    "# Stability\n",
    "\n",
    "In this exercise we will investigate stability properties of model predictive controllers.\n",
    "We continue working with the Python library [CasADi](https://web.casadi.org/docs/)\n",
    "and use it to implement MPC.\n",
    "For the analysis of our systems, we are going to rely on the Python library [Control](https://python-control.readthedocs.io/en/0.8.3/intro.html#installation).\n",
    "For the computation of the vertices of polyhedrons, which will be required for the computation of maximum positive invariant sets, we will use the Python library [pypoman](https://pypi.org/project/pypoman/).\n",
    "Please make sure to install these modules before pursuing this tutorial."
   ]
  },
  {
   "cell_type": "markdown",
   "metadata": {
    "graffitiCellId": "id_wbjf19m"
   },
   "source": [
    "But first we import the required Python packages:"
   ]
  },
  {
   "cell_type": "code",
   "execution_count": null,
   "metadata": {
    "graffitiCellId": "id_xakzowi"
   },
   "outputs": [],
   "source": [
    "import numpy as np\n",
    "import matplotlib.pyplot as plt\n",
    "import matplotlib as mpl\n",
    "from casadi import *\n",
    "from control import dare"
   ]
  },
  {
   "cell_type": "markdown",
   "metadata": {
    "graffitiCellId": "id_g3vt4n1"
   },
   "source": [
    "We also change some Matplotlib parameters to increase the font size and to activate gridding. Here is some [information](https://matplotlib.org/3.2.1/tutorials/introductory/customizing.html) on how this works."
   ]
  },
  {
   "cell_type": "code",
   "execution_count": null,
   "metadata": {
    "graffitiCellId": "id_2d7va02"
   },
   "outputs": [],
   "source": [
    "mpl.rcParams['font.size'] = 16\n",
    "mpl.rcParams['axes.grid'] = True"
   ]
  },
  {
   "cell_type": "markdown",
   "metadata": {
    "graffitiCellId": "id_beqo9zt"
   },
   "source": [
    "# <span class=\"graffiti-highlight graffiti-id_beqo9zt-id_4qdq2x1\"><i></i>Question Section 1</span>\n",
    "\n",
    "Please answer the following questions with pen and paper before watching the solution video.\n",
    "These questions test your understanding of the concepts presented in the lecture about stability.\n"
   ]
  },
  {
   "cell_type": "markdown",
   "metadata": {
    "graffitiCellId": "id_1lvwcbe"
   },
   "source": [
    "1. What is a positive invariant set for a constrained discrete-time system defined by $x_{k+1} = A x_k$, and the constraints $x \\in \\mathcal{X}$, where $A$ is the system matrix and $\\mathcal{X}$ is the constraint set?\n",
    "2. What is a maximal positive invariant set (MPI) for a system described as in the previous question?\n",
    "3. Why are positive invariant sets useful for model predictive control?\n",
    "\n",
    "**Solution**\n",
    "\n",
    "<video controls src=\"videos/QS1_123.m4v\" width=\"100%\"/>"
   ]
  },
  {
   "cell_type": "markdown",
   "metadata": {
    "graffitiCellId": "id_t9dnufr"
   },
   "source": [
    "4. Assume we have an unconstrained MPC with prediction horizon $N$, with a cost function\n",
    "$$\n",
    "V_N(x)= \\sum_{k=0}^{N-1} (x_k^T Q x_k + u_k^T R u_k) + x_N^T P x_N\n",
    "$$\n",
    "and we have an optimal predicted input sequence $\\{u_0^*,u_1^*,\\dots,u_{N-1}^*\\}$. How is the gain matrix $K_k$ with $k=0,1,\\dots,N-1$ defined for each prediction step $k$?\n",
    "\n",
    "**Solution**\n",
    "\n",
    "<video controls src=\"videos/QS1_4.m4v\" width=\"100%\"/>"
   ]
  },
  {
   "cell_type": "markdown",
   "metadata": {
    "graffitiCellId": "id_qz1ymga"
   },
   "source": [
    "5. Assume positive definite matrices $Q$ and $R$. For the unconstrained case, is an infinite horizon LQR necessarily stabilizing regardless of the choice of the matrices $Q$ and $R$ provided the system is controllable?\n",
    "\n",
    "**Solution**\n",
    "\n",
    "<video controls src=\"videos/QS1_5.m4v\" width=\"100%\"/>"
   ]
  },
  {
   "cell_type": "markdown",
   "metadata": {
    "graffitiCellId": "id_zjdfwkr"
   },
   "source": [
    "6. Assume positive definite matrices $Q$ and $R$. For the unconstrained case, is a finite horizon MPC necessarily stabilizing regardless of the choice of the matrices $Q$ and $R$ provided the system is controllable? How can we guarantee stability of the system in that case?\n",
    "\n",
    "<video controls src=\"videos/QS1_6.m4v\" width=\"100%\"/>"
   ]
  },
  {
   "cell_type": "markdown",
   "metadata": {
    "graffitiCellId": "id_vcjt6z0"
   },
   "source": [
    "# Task 1: Stability of unconstrained MPC\n",
    "The system under consideration is given by\n",
    "\n",
    "$$\n",
    "x_{k+1} = \\begin{bmatrix}4 & 3 \\\\ 4 & 1 \\end{bmatrix} x_k + \\begin{bmatrix} 1\\\\ 1 \\end{bmatrix} u_k.\n",
    "$$\n",
    "\n",
    "We assume that both states can be measured ($C = I$). We are going to implement an MPC for this plant with\n",
    "\n",
    "$$\n",
    "Q = P = \\begin{bmatrix} 1 & 0 \\\\ 0 & 1 \\end{bmatrix}, \\quad R = 1,\n",
    "$$\n",
    "\n",
    "and the cost function of the MPC is given by\n",
    "\n",
    "$$\n",
    "V_N(x)= \\sum_{k=0}^{N-1} (x_k^T Q x_k + u_k^T R u_k) + x_N^T P x_N\n",
    "$$\n",
    "\n",
    "with prediction horizon $N$.\n",
    "The initial state of the system is $x_0 = [10, 10]^T$."
   ]
  },
  {
   "cell_type": "markdown",
   "metadata": {
    "graffitiCellId": "id_jmvla2d"
   },
   "source": [
    "First, we define a function for running the closed-loop MPC:"
   ]
  },
  {
   "cell_type": "code",
   "execution_count": null,
   "metadata": {
    "graffitiCellId": "id_5fk41ut"
   },
   "outputs": [],
   "source": [
    "def run_closed_loop_mpc(x0, lbx, ubx, lbg, ubg, solver, system):\n",
    "    \n",
    "    # initial state\n",
    "    x_k = x0\n",
    "    nx = x0.shape[0]\n",
    "\n",
    "    # xxx\n",
    "    X_traj = [x0]\n",
    "    U_traj = []\n",
    "    for _ in range(sim_steps):\n",
    "\n",
    "        # update initial condition\n",
    "        lbx[:nx]=x_k\n",
    "        ubx[:nx]=x_k\n",
    "\n",
    "        # solve MPC problem\n",
    "        res = solver(lbx=lbx,ubx=ubx,lbg=lbg,ubg=ubg)\n",
    "\n",
    "        # extract optimal input\n",
    "        u_k = res['x'][(N+1)*nx:(N+1)*nx+nu,:]\n",
    "\n",
    "        # simulate system\n",
    "        x_k = system(x_k,u_k)\n",
    "\n",
    "        # update data lists\n",
    "        X_traj.append(x_k)\n",
    "        U_traj.append(u_k)\n",
    "        \n",
    "    return X_traj, U_traj"
   ]
  },
  {
   "cell_type": "markdown",
   "metadata": {
    "graffitiCellId": "id_2z23guc"
   },
   "source": [
    "And then a function which allows easy plotting of the obtained results:"
   ]
  },
  {
   "cell_type": "code",
   "execution_count": null,
   "metadata": {
    "graffitiCellId": "id_7y5w0me"
   },
   "outputs": [],
   "source": [
    "def plot_traj(X_traj, U_traj):\n",
    "    \n",
    "    # Concatenate data\n",
    "    X_plot = np.hstack(X_traj)\n",
    "    U_plot = np.hstack(U_traj)\n",
    "\n",
    "    # Plot trajectories \n",
    "    fig = plt.figure(figsize=(16,9))\n",
    "    # phase plot\n",
    "    ax_r = plt.subplot(1,2,2)\n",
    "    ax_r.set_xlabel('x1')\n",
    "    ax_r.set_ylabel('x2')\n",
    "    ax_r.step(X_plot[0,:],X_plot[1,:])\n",
    "    # state trajectories\n",
    "    ax_l1 = plt.subplot(3,2,1)\n",
    "    ax_l1.set_ylabel('x1')\n",
    "    ax_l1.step(np.arange(0,sim_steps+1),X_plot[0,:])\n",
    "    ax_l2 = plt.subplot(3,2,3)\n",
    "    ax_l2.set_ylabel('x2')\n",
    "    ax_l2.step(np.arange(0,sim_steps+1),X_plot[1,:])\n",
    "    # input trajectory\n",
    "    ax_l3 = plt.subplot(3,2,5)\n",
    "    ax_l3.step(np.arange(0,sim_steps),U_plot[0,:])\n",
    "    ax_l3.set_ylabel('u')\n",
    "    ax_l3.set_xlabel('Steps')"
   ]
  },
  {
   "cell_type": "markdown",
   "metadata": {
    "graffitiCellId": "id_zddrrok"
   },
   "source": [
    "## <span class=\"graffiti-highlight graffiti-id_zddrrok-id_04peoaw\"><i></i>Impact of the prediction horizon $N$</span>\n",
    "Implement an unconstrained MPC with a prediction horizon of $N=3$. Does the MPC stabilize the system? Can you explain the results? What happens when you increase the prediction horizon $N$? Try different values of $N$ in order to stabilize the system."
   ]
  },
  {
   "cell_type": "markdown",
   "metadata": {
    "graffitiCellId": "id_e78kzi9"
   },
   "source": [
    "### System equation\n",
    "\n",
    "Implement the linear time-invariant system equation as a CasADi function called `system` which takes as the first argument the state as column vector and as the second argument the control input as a column vector."
   ]
  },
  {
   "cell_type": "code",
   "execution_count": null,
   "metadata": {
    "graffitiCellId": "id_atueujn"
   },
   "outputs": [],
   "source": [
    "# system matrix\n",
    "\n",
    "\n",
    "# input matrix\n",
    "\n",
    "\n",
    "# states\n",
    "\n",
    "\n",
    "# inputs\n",
    "\n",
    "\n",
    "# system equation expression\n",
    "\n",
    "\n",
    "# system equation CasADi function\n",
    "\n"
   ]
  },
  {
   "cell_type": "markdown",
   "metadata": {
    "graffitiCellId": "id_g35uv2c"
   },
   "source": [
    "<span class=\"graffiti-highlight graffiti-id_g35uv2c-id_ep0pzu8\"><i></i><button>Show Solution</button></span>"
   ]
  },
  {
   "cell_type": "markdown",
   "metadata": {
    "graffitiCellId": "id_5ceglv1"
   },
   "source": [
    "### Objective function\n",
    "Create a CasADi function for the stage cost and the terminal cost depending on the current state and/or control input."
   ]
  },
  {
   "cell_type": "code",
   "execution_count": null,
   "metadata": {
    "graffitiCellId": "id_1cnurkt"
   },
   "outputs": [],
   "source": [
    "# matrices (Q, P and R)\n",
    "\n",
    "\n",
    "# stage cost\n",
    "\n",
    "\n",
    "# terminal cost\n"
   ]
  },
  {
   "cell_type": "markdown",
   "metadata": {
    "graffitiCellId": "id_nn4g522"
   },
   "source": [
    "<span class=\"graffiti-highlight graffiti-id_nn4g522-id_833cxhd\"><i></i><button>Show Solution</button></span>"
   ]
  },
  {
   "cell_type": "markdown",
   "metadata": {
    "graffitiCellId": "id_ukxt40n"
   },
   "source": [
    "### Settings for the closed-loop simulation\n",
    "At first, we are going to define our parameters such as horizon `N`, the number of simulation steps `sim_steps` and our initial state `x0`:"
   ]
  },
  {
   "cell_type": "code",
   "execution_count": null,
   "metadata": {
    "graffitiCellId": "id_tj1h4q2"
   },
   "outputs": [],
   "source": [
    "sim_steps = 50\n",
    "x0 = np.array([[10],\n",
    "               [10]])"
   ]
  },
  {
   "cell_type": "markdown",
   "metadata": {
    "graffitiCellId": "id_fs1u1du"
   },
   "source": [
    "### <span class=\"graffiti-highlight graffiti-id_fs1u1du-id_9vc3clf\"><i></i>Construct MPC problem and create the solver</span>\n",
    "Here we are going to construct the problem formulation and the solver.\n",
    "The prediction horizon can be changed via `N`.\n",
    "Simulate the system and plot the results for `N=3`. What happens?\n",
    "Test and analyze different values of `N`. How does the prediction horizon influence the control performance?"
   ]
  },
  {
   "cell_type": "code",
   "execution_count": null,
   "metadata": {
    "graffitiCellId": "id_zcg898a"
   },
   "outputs": [],
   "source": [
    "# Prediction horizon\n",
    "N = 3\n",
    "\n",
    "# Optimization variables\n",
    "X = SX.sym(\"X\",(N+1)*nx,1)\n",
    "U = SX.sym(\"U\",N*nu,1)\n",
    "\n",
    "# Initialize palceholders\n",
    "J = 0\n",
    "g = []\n",
    "lb_g = []\n",
    "ub_g = []\n",
    "\n",
    "# Loop for problem construction\n",
    "for k in range(N):\n",
    "    \n",
    "    # 01 - Your code here!\n",
    "    # extract the k-th elements from the state and input trajectory\n",
    "    \n",
    "    # 01\n",
    "\n",
    "    # 02 - Your code here!\n",
    "    # objective\n",
    "    \n",
    "    # 02\n",
    "    \n",
    "    # 03 - Your code here!\n",
    "    # equality constraints (system equation)\n",
    "    \n",
    "    # 03\n",
    "    \n",
    "# Terminal cost\n",
    "\n",
    "\n",
    "# Create solver\n",
    "xu = vertcat(X,U)\n",
    "lbx = -np.inf*np.ones(((N+1)*nx+N*nu,1))\n",
    "ubx = np.inf*np.ones(((N+1)*nx+N*nu,1))\n",
    "g = vertcat(*g)\n",
    "lbg = vertcat(*lb_g)\n",
    "ubg = vertcat(*ub_g)\n",
    "\n",
    "prob = {'f':J,'x':xu,'g':g}\n",
    "solver = nlpsol('solver','ipopt',prob)"
   ]
  },
  {
   "cell_type": "markdown",
   "metadata": {
    "graffitiCellId": "id_rkoldd5"
   },
   "source": [
    "<span class=\"graffiti-highlight graffiti-id_rkoldd5-id_snh1tn5\"><i></i><button>Show Solution</button></span>"
   ]
  },
  {
   "cell_type": "markdown",
   "metadata": {
    "graffitiCellId": "id_6u89hhs"
   },
   "source": [
    "### Simulate the system\n",
    "Now we can simulate the closed-loop system with the help of the pre-defined function."
   ]
  },
  {
   "cell_type": "code",
   "execution_count": null,
   "metadata": {
    "graffitiCellId": "id_d70zgk2"
   },
   "outputs": [],
   "source": [
    "%%capture\n",
    "X_traj, U_traj = run_closed_loop_mpc(x0, lbx, ubx, lbg, ubg, solver, system)"
   ]
  },
  {
   "cell_type": "markdown",
   "metadata": {
    "graffitiCellId": "id_z78wh6r"
   },
   "source": [
    "### Visualize the resulting trajectories\n",
    "Now we can take a look at our trajectories. On the left half you can see the progression of the states and the input in the time domain, and on the right half the trajectories in the state-space are represented."
   ]
  },
  {
   "cell_type": "code",
   "execution_count": null,
   "metadata": {
    "graffitiCellId": "id_f0uikiy"
   },
   "outputs": [],
   "source": [
    "plot_traj(X_traj, U_traj)"
   ]
  },
  {
   "cell_type": "markdown",
   "metadata": {
    "graffitiCellId": "id_qwcrpho"
   },
   "source": [
    "## <span class=\"graffiti-highlight graffiti-id_qwcrpho-id_9eh43xx\"><i></i>Optimal (infinite horizon) terminal cost matrix</span>\n",
    "Increasing the prediction horizon to obtain stability and a better performance leads to a more complex optimization problem, which needs to be solved. This might be prohibitive for large or very fast systems and when the computationl requirements are restricted, e.g. when micro-controllers are used for control.\n",
    "To obtain stability guarantees even for short horizons one can compute the optimal solution w.r.t to the chosen ojective function. The optimal terminal cost for the objective function can be computed by solving the dynamic algebraic Riccati equation (DARE). The Python toolbox Control provides a function that computes the solution of the [DARE](https://python-control.readthedocs.io/en/0.8.3/generated/control.matlab.dare.html).\n",
    "\n",
    "Use the function `dare` to obtain the optimal terminal weight matrix `P`."
   ]
  },
  {
   "cell_type": "code",
   "execution_count": null,
   "metadata": {
    "graffitiCellId": "id_sgh76it"
   },
   "outputs": [],
   "source": [
    "# compute P\n",
    "\n",
    "\n",
    "# convert to numpy-array\n",
    "P = np.array(P)"
   ]
  },
  {
   "cell_type": "markdown",
   "metadata": {
    "graffitiCellId": "id_gbqhteg"
   },
   "source": [
    "<span class=\"graffiti-highlight graffiti-id_gbqhteg-id_wcd5yjj\"><i></i><button>Show Solution</button></span>"
   ]
  },
  {
   "cell_type": "markdown",
   "metadata": {
    "graffitiCellId": "id_eplkevx"
   },
   "source": [
    "Use the terminal weight matrix `P` obtained from the DARE to update your terminal cost function:"
   ]
  },
  {
   "cell_type": "code",
   "execution_count": null,
   "metadata": {
    "graffitiCellId": "id_4illion"
   },
   "outputs": [],
   "source": [
    "# terminal cost\n"
   ]
  },
  {
   "cell_type": "markdown",
   "metadata": {
    "graffitiCellId": "id_70ch72v"
   },
   "source": [
    "<span class=\"graffiti-highlight graffiti-id_70ch72v-id_lq2mi5c\"><i></i><button>Show Solution</button></span>"
   ]
  },
  {
   "cell_type": "markdown",
   "metadata": {
    "graffitiCellId": "id_e5ycodk"
   },
   "source": [
    "Use the updated terminal cost function to create an MPC with `N=3` and \n",
    "\n",
    "*Hint: You can copy code from your previous solver construction.*"
   ]
  },
  {
   "cell_type": "code",
   "execution_count": null,
   "metadata": {
    "graffitiCellId": "id_n8ftvxb"
   },
   "outputs": [],
   "source": [
    "# Paste your code here."
   ]
  },
  {
   "cell_type": "markdown",
   "metadata": {
    "graffitiCellId": "id_jh8artj"
   },
   "source": [
    "<span class=\"graffiti-highlight graffiti-id_jh8artj-id_i2dzlyv\"><i></i><button>Show Solution</button></span>"
   ]
  },
  {
   "cell_type": "markdown",
   "metadata": {
    "graffitiCellId": "id_i46evyh"
   },
   "source": [
    "We can now simulate the closed-loop system with the MPC formulation containing the terminal penalty."
   ]
  },
  {
   "cell_type": "code",
   "execution_count": null,
   "metadata": {
    "graffitiCellId": "id_agmzq7n"
   },
   "outputs": [],
   "source": [
    "%%capture\n",
    "X_traj, U_traj = run_closed_loop_mpc(x0, lbx, ubx, lbg, ubg, solver, system)"
   ]
  },
  {
   "cell_type": "markdown",
   "metadata": {
    "graffitiCellId": "id_067kdmt"
   },
   "source": [
    "### Visualize the resulting trajectories with terminal penalty"
   ]
  },
  {
   "cell_type": "code",
   "execution_count": null,
   "metadata": {
    "graffitiCellId": "id_sh7i4qq"
   },
   "outputs": [],
   "source": [
    "plot_traj(X_traj, U_traj)"
   ]
  },
  {
   "cell_type": "markdown",
   "metadata": {
    "graffitiCellId": "id_64qnhid"
   },
   "source": [
    "The application of optimal terminal cost matrix $P$ enables the stable implementation of MPC with a short prediction horizon of $N=3$."
   ]
  },
  {
   "cell_type": "markdown",
   "metadata": {
    "graffitiCellId": "id_pv9bg2e"
   },
   "source": [
    "## <span class=\"graffiti-highlight graffiti-id_pv9bg2e-id_9itjvea\"><i></i>Is it really necessary to implement a MPC for an unconstrained control problem?</span>\n",
    "We are dealing with a linear time-invariant system without constraints and a quadratic objective function.\n",
    "We are basically using a sledgehammer to crack a nut in this case, but we could use a way simpler approach to crack the nut without smashing the nut kernel.\n",
    "The solution of the DARE also provides the optimal state feedback for our control, the LQR feedback.\n",
    "\n",
    "Use the function `dare` to compute the optimal state feedback matrix `K`."
   ]
  },
  {
   "cell_type": "code",
   "execution_count": null,
   "metadata": {
    "graffitiCellId": "id_gkmkx99"
   },
   "outputs": [],
   "source": [
    "# compute K\n",
    "\n",
    "\n",
    "# convert to numpy-array\n",
    "K = np.array(K)"
   ]
  },
  {
   "cell_type": "markdown",
   "metadata": {
    "graffitiCellId": "id_pb42e2x"
   },
   "source": [
    "<span class=\"graffiti-highlight graffiti-id_pb42e2x-id_fkvnrlp\"><i></i><button>Show Solution</button></span>"
   ]
  },
  {
   "cell_type": "markdown",
   "metadata": {
    "graffitiCellId": "id_2n7ee60"
   },
   "source": [
    "### Simulate the closed-loop with the LQR\n",
    "\n",
    "Implement the closed-loop for the LQR controller. Ensure that the current optimal control input is given as `u_k`.\n",
    "`X_traj_lqr` and `U_traj_lqr` need to be lists of column vectors."
   ]
  },
  {
   "cell_type": "code",
   "execution_count": null,
   "metadata": {
    "graffitiCellId": "id_jugpuca"
   },
   "outputs": [],
   "source": [
    "x_k = x0\n",
    "X_traj_lqr = [x0]\n",
    "U_traj_lqr = []\n",
    "\n",
    "for _ in range(sim_steps):\n",
    "    \n",
    "    # LQR feedback\n",
    "    \n",
    "    # simulate system\n",
    "    x_k = system(x_k,u_k)\n",
    "    \n",
    "    # update data lists\n",
    "    X_traj_lqr.append(x_k)\n",
    "    U_traj_lqr.append(u_k)"
   ]
  },
  {
   "cell_type": "markdown",
   "metadata": {
    "graffitiCellId": "id_faojsh7"
   },
   "source": [
    "<span class=\"graffiti-highlight graffiti-id_faojsh7-id_bo8ehxz\"><i></i><button>Show Solution</button></span>"
   ]
  },
  {
   "cell_type": "markdown",
   "metadata": {
    "graffitiCellId": "id_r8lzxcu"
   },
   "source": [
    "### Visualize closed-loop of the LQR controller "
   ]
  },
  {
   "cell_type": "code",
   "execution_count": null,
   "metadata": {
    "graffitiCellId": "id_mdxswh1"
   },
   "outputs": [],
   "source": [
    "plot_traj(X_traj, U_traj)"
   ]
  },
  {
   "cell_type": "markdown",
   "metadata": {
    "graffitiCellId": "id_qa4190j"
   },
   "source": [
    "The LQR provides the optimal performance (w.r.t. to the objective function) and does not even require solving optimization problems in each step. Additionally, \"designing\" an LQR is very simple (`dare(A,B,Q,R)`)."
   ]
  },
  {
   "cell_type": "markdown",
   "metadata": {
    "graffitiCellId": "id_ye4gxxu"
   },
   "source": [
    "## <span class=\"graffiti-highlight graffiti-id_ye4gxxu-id_5t58j79\"><i></i>Task 2: Maximum Positive Invariant Sets</span>\n",
    "\n",
    "The system under consideration is given by\n",
    "$$ x_1^+ = x_1 + x_2 + u \\text{ and } x_2^+ = x_2 + u.$$\n",
    "The state and input constraints are given by\n",
    "$$-1\\leq x_1 \\leq 1,\\, -1 \\leq x_2 \\leq 1, \\, -1 \\leq u \\leq 1.$$\n",
    "\n",
    "### Standard form\n",
    "\n",
    "Please reformulate the system such that:\n",
    "$$x^+ = A_{\\text{sys}} x + B_{\\text{sys}} u, \\quad Fx \\leq \\mathbf{1},\\quad Gu \\leq \\mathbf{1},$$\n",
    "where $\\mathbf{1}$ is a vector of ones of appropriate dimension.\n",
    "Add the resulting matrices `A_sys`, `B_sys`, `F` and `G` to the code:"
   ]
  },
  {
   "cell_type": "code",
   "execution_count": null,
   "metadata": {
    "graffitiCellId": "id_mzevztf"
   },
   "outputs": [],
   "source": [
    "# system matrix\n",
    "\n",
    "\n",
    "# input matrix\n",
    "\n",
    "\n",
    "# state constraints matrix\n",
    "\n",
    "\n",
    "# input constraints matrix\n",
    "\n"
   ]
  },
  {
   "cell_type": "markdown",
   "metadata": {
    "graffitiCellId": "id_afv4e6h"
   },
   "source": [
    "<span class=\"graffiti-highlight graffiti-id_afv4e6h-id_dh0johi\"><i></i><button>Show Solution</button></span>"
   ]
  },
  {
   "cell_type": "markdown",
   "metadata": {
    "graffitiCellId": "id_twnmcu6"
   },
   "source": [
    "### Computation of the  maximum positive invariant set\n",
    "Since all necessary matrices are now given in standard form, we want to apply the algorithm presented in [Lecture 8](https://moodle.tu-dortmund.de/pluginfile.php/1490736/mod_resource/content/1/Lec8_Stability_and_optimality.pdf) to compute maximum positive invariant set for the feedack matrix $K = [-1, -1]$ for the closed-loop system $x^+ = (A_{\\text{sys}}+B_{\\text{sys}}K)x$. Define the state feedback matrix `K` and the system matrix of the closed-loop `A_cl`."
   ]
  },
  {
   "cell_type": "code",
   "execution_count": null,
   "metadata": {
    "graffitiCellId": "id_dzju4gg"
   },
   "outputs": [],
   "source": [
    "# state feedback matrix\n",
    "\n",
    "\n",
    "# closed-loop system\n"
   ]
  },
  {
   "cell_type": "markdown",
   "metadata": {
    "graffitiCellId": "id_f91h87d"
   },
   "source": [
    "<span class=\"graffiti-highlight graffiti-id_f91h87d-id_12x4aqn\"><i></i><button>Show Solution</button></span>"
   ]
  },
  {
   "cell_type": "markdown",
   "metadata": {
    "graffitiCellId": "id_ayb56a0"
   },
   "source": [
    "We first check if the given feedback matrix is stabilizing by computing the eigenvalues of the closed-loop system:"
   ]
  },
  {
   "cell_type": "code",
   "execution_count": null,
   "metadata": {
    "graffitiCellId": "id_v9vd445"
   },
   "outputs": [],
   "source": [
    "np.linalg.eig(A_cl)[0]"
   ]
  },
  {
   "cell_type": "markdown",
   "metadata": {
    "graffitiCellId": "id_e01xdyg"
   },
   "source": [
    "Since the chosen feedack is stabilizing, we can now take a look on how the maximum positive invariant set is defined:\n",
    "\n",
    "$$\n",
    "\\Omega(n_f) = \\{ x \\, |\\, F(A_{\\text{sys}}+B_{\\text{sys}}K)^i \\leq \\mathbf{1}, G K (A_{\\text{sys}}+B_{\\text{sys}}K)^i \\leq \\mathbf{1}, i = 0,\\dots,n_f \\}\n",
    "$$\n",
    "\n",
    "Based on that we can implement an iteration scheme with the termination criterion\n",
    "\n",
    "$$\n",
    "(A_{\\text{sys}}+B_{\\text{sys}}K) \\Omega(n_f) \\subseteq \\Omega(n_f).\n",
    "$$\n",
    "\n",
    "Because we are dealing with linear systems, we can just check the vertices of the current iterate $\\Omega(i)$ for the termination criterion.\n",
    "We therefore use the function `compute_polytope_vertices` of the module [pypoman](https://pypi.org/project/pypoman/) to compute the vertices of our current iterate.\n",
    "The vertices of a polytope given in half-space representation $\\mathcal{P} = \\{x \\, | \\, Ax \\leq b \\}$ can be derived via `compute_polytope_vertices(A,b)` as a `list`.\n",
    "To compute the matrix powers, we will use the function `matrix_power(matrix,power)` from `numpy.linalg`."
   ]
  },
  {
   "cell_type": "code",
   "execution_count": null,
   "metadata": {
    "graffitiCellId": "id_57azcjk"
   },
   "outputs": [],
   "source": [
    "from pypoman import compute_polytope_vertices\n",
    "from numpy.linalg import matrix_power as mp"
   ]
  },
  {
   "cell_type": "markdown",
   "metadata": {
    "graffitiCellId": "id_xkrl7u3"
   },
   "source": [
    "Now we can implement the algorithm. First, we define a maximum number of iterations to avoid infinite loops.\n",
    "\n",
    "Use the break condition to terminate the algorithm as early as possible. The vertices of the the MPI should be obtained and named as follows: `verts = compute_polytope_vertices(...)`.\n",
    "\n",
    "*Hint: Since we are dealing with a linear system, it is sufficient if all vertices of $\\Omega(n_f)$ satisfy the termination criterion.*"
   ]
  },
  {
   "cell_type": "code",
   "execution_count": null,
   "metadata": {
    "graffitiCellId": "id_4wm1jlj"
   },
   "outputs": [],
   "source": [
    "# Maximum number of iterations\n",
    "max_iter = 100\n",
    "\n",
    "# Initialize empty matrix describing the invariant set\n",
    "invariant_mat = np.zeros((0,2))\n",
    "\n",
    "# run loop\n",
    "for n_f in range(max_iter):\n",
    "    \n",
    "    # extend the matrix describing the invariant set\n",
    "    \n",
    "    \n",
    "    # termination criterion\n",
    "    \n",
    "    \n",
    "    # compute vertices of current iterate of the maximum invariant set\n",
    "    \n",
    "    \n",
    "    # compute predecessor states of the current vertices\n",
    "    \n",
    "    \n",
    "    # check if all predecessor verts lie inside the current iterate of the maximum invariant set\n",
    "    \n",
    "    \n",
    "    # if all predecessor verts inside the current iterate of the maximum invariant set -> break\n",
    "    "
   ]
  },
  {
   "cell_type": "markdown",
   "metadata": {
    "graffitiCellId": "id_xw2e9u6"
   },
   "source": [
    "<span class=\"graffiti-highlight graffiti-id_xw2e9u6-id_sfm9smy\"><i></i><button>Show Solution</button></span>"
   ]
  },
  {
   "cell_type": "markdown",
   "metadata": {
    "graffitiCellId": "id_h1fvms7"
   },
   "source": [
    "For the computation and visualization of the convex hull of our $\\Omega$ we will use the function `plot_polygon`:"
   ]
  },
  {
   "cell_type": "code",
   "execution_count": null,
   "metadata": {
    "graffitiCellId": "id_kfslfv2",
    "scrolled": true
   },
   "outputs": [],
   "source": [
    "from pypoman.polygon import plot_polygon"
   ]
  },
  {
   "cell_type": "markdown",
   "metadata": {
    "graffitiCellId": "id_rmcza38"
   },
   "source": [
    "We can now plot the MPI for $K=[-1,-1]$:"
   ]
  },
  {
   "cell_type": "code",
   "execution_count": null,
   "metadata": {
    "graffitiCellId": "id_9l9feq7"
   },
   "outputs": [],
   "source": [
    "plot_polygon(verts,color='r',alpha=0.4)"
   ]
  },
  {
   "cell_type": "markdown",
   "metadata": {
    "graffitiCellId": "id_wyclitb"
   },
   "source": [
    "### <span class=\"graffiti-highlight graffiti-id_wyclitb-id_mritnvq\"><i></i>Maximum positive invariant set for LQR feedback</span>\n",
    "We have now analyzed the MPI for a given state feedback.\n",
    "Assume we want to implement an LQR for the cost function\n",
    "\n",
    "$$\n",
    "V_N(x)= \\sum_{k=0}^{N-1} (x_k^T Q x_k + u_k^T R u_k) + x_N^T P x_N\n",
    "$$\n",
    "\n",
    "where $N$ is the prediction horizon, $Q=0.001 \\cdot I$ and $R = 1$.\n",
    "The goal is now to compute the optimal feedback (LQR feedback) and compute the corresponding MPI.\n",
    "But we have seen before, that it is straight-forward to obtain optimal feedback matrix (w.r.t to the objective function). Please compute `K_lqr` and update the closed-loop system matrix `A_cl`.\n",
    "\n",
    "*Hint: You can mostly copy code from previous tasks.*"
   ]
  },
  {
   "cell_type": "code",
   "execution_count": null,
   "metadata": {
    "graffitiCellId": "id_hxysbyw"
   },
   "outputs": [],
   "source": [
    "# Q\n",
    "\n",
    "\n",
    "# R\n",
    "\n",
    "\n",
    "# Compute optimal feedback matrix by solving the DARE\n",
    "\n",
    "\n",
    "# convert to numpy array\n",
    "K_lqr = -np.array(K_lqr)\n",
    "\n",
    "# Update the closed-loop\n"
   ]
  },
  {
   "cell_type": "markdown",
   "metadata": {
    "graffitiCellId": "id_8027xvh"
   },
   "source": [
    "<span class=\"graffiti-highlight graffiti-id_8027xvh-id_uyjqmyi\"><i></i><button>Show Solution</button></span>"
   ]
  },
  {
   "cell_type": "markdown",
   "metadata": {
    "graffitiCellId": "id_vxq5nve"
   },
   "source": [
    "With the updated (optimal) feedback and closed-loop description, we can now compute the corresponding MPI using the algorithm. The vertices of the the MPI should be obtained and named as follows: `verts_lqr = compute_polytope_vertices(...)`.\n",
    "\n",
    "*Hint: You can use the code from before by replacing `K` with `K_lqr`.*"
   ]
  },
  {
   "cell_type": "code",
   "execution_count": null,
   "metadata": {
    "graffitiCellId": "id_zfsinny"
   },
   "outputs": [],
   "source": [
    "# Paste your code here."
   ]
  },
  {
   "cell_type": "markdown",
   "metadata": {
    "graffitiCellId": "id_ffe8c5u"
   },
   "source": [
    "<span class=\"graffiti-highlight graffiti-id_ffe8c5u-id_59hdo3k\"><i></i><button>Show Solution</button></span>"
   ]
  },
  {
   "cell_type": "markdown",
   "metadata": {
    "graffitiCellId": "id_uxx4qkg"
   },
   "source": [
    "We can now plot the resulting MPI (blue) with the one that we obtained for the feedback $K = [-1, -1]$ (red):"
   ]
  },
  {
   "cell_type": "code",
   "execution_count": null,
   "metadata": {
    "graffitiCellId": "id_q99iexh",
    "scrolled": false
   },
   "outputs": [],
   "source": [
    "plot_polygon(verts,color='r',alpha=0.4)\n",
    "plot_polygon(verts_lqr,color='b',alpha=0.4)"
   ]
  },
  {
   "cell_type": "markdown",
   "metadata": {
    "graffitiCellId": "id_sy6fgym"
   },
   "source": [
    "**<span class=\"graffiti-highlight graffiti-id_sy6fgym-id_74zpm88\"><i></i>Conclusion**</span>\n",
    "\n",
    "The size and shape of the MPI is depending on the feedback matrix $K$. The LQR gain itself does not guarantee a maximum-sized MPI and can be influenced by the choice of $Q$ and $R$."
   ]
  },
  {
   "cell_type": "markdown",
   "metadata": {
    "graffitiCellId": "id_xc46qju"
   },
   "source": [
    "# <span class=\"graffiti-highlight graffiti-id_xc46qju-id_94inys4\"><i></i>Question Section 2</span>\n",
    "\n",
    "Please answer the following questions with pen and paper before watching the solution video.\n",
    "These questions test your understanding of the concepts presented in the lecture about stability."
   ]
  },
  {
   "cell_type": "markdown",
   "metadata": {
    "graffitiCellId": "id_747nw3l"
   },
   "source": [
    "1. How is recursive feasibility defined for model predictive control?\n",
    "2. How can we guarantee recursive feasibility of a MPC with constraints?\n",
    "\n",
    "**Solution**\n",
    "\n",
    "<video controls src=\"videos/QS2_12.m4v\" width=\"100%\"/>"
   ]
  },
  {
   "cell_type": "markdown",
   "metadata": {
    "graffitiCellId": "id_spw8zt9"
   },
   "source": [
    "3. How can we guarantee stability of a MPC with constraints?\n",
    "\n",
    "**Solution** \n",
    "\n",
    "<video controls src=\"videos/QS2_3.m4v\" width=\"100%\"/>"
   ]
  },
  {
   "cell_type": "markdown",
   "metadata": {
    "graffitiCellId": "id_gxvsmwn"
   },
   "source": [
    "## <span class=\"graffiti-highlight graffiti-id_gxvsmwn-id_y112pl2\"><i></i>Task 3: Stability and recursive feasibility for MPC</span>\n",
    "\n",
    "We consider a system \n",
    "$$\n",
    "x_{k+1} = \\begin{bmatrix} 1 & 1 \\\\ 1 & 0 \\end{bmatrix} x_k + \\begin{bmatrix} 0.5 \\\\ 1 \\end{bmatrix} u_k.\n",
    "$$\n",
    "The state and input constraints are given by\n",
    "$$\n",
    "-1 \\leq x \\leq 1 \\text{ and } -0.25 \\leq u \\leq 0.25.\n",
    "$$\n",
    "We consider a quadratic objective function\n",
    "$$\n",
    "V_N(x)= \\sum_{k=0}^{N-1} (x_k^T Q x_k + u_k^T R u_k) + x_N^T P x_N\n",
    "$$\n",
    "where $N$ is the prediction horizon, $Q=P=I$ and $R = 5$.\n",
    "Test, if the given MPC controller with prediction horizon $N=2$ is recursively feasible!"
   ]
  },
  {
   "cell_type": "markdown",
   "metadata": {
    "graffitiCellId": "id_spw6g6x"
   },
   "source": [
    "### Parameters"
   ]
  },
  {
   "cell_type": "code",
   "execution_count": null,
   "metadata": {
    "graffitiCellId": "id_q9wlxbw"
   },
   "outputs": [],
   "source": [
    "# prediction horizon\n",
    "N = 2\n",
    "sim_steps = 25"
   ]
  },
  {
   "cell_type": "markdown",
   "metadata": {
    "graffitiCellId": "id_rfo7go8"
   },
   "source": [
    "### System equation"
   ]
  },
  {
   "cell_type": "code",
   "execution_count": null,
   "metadata": {
    "graffitiCellId": "id_og76jep"
   },
   "outputs": [],
   "source": [
    "# system matrix\n",
    "A = np.array([[1, 1],\n",
    "              [1, 0]])\n",
    "# input matrix\n",
    "B = np.array([[0.5],\n",
    "              [1]])\n",
    "# states\n",
    "nx = A.shape[1]\n",
    "x = SX.sym(\"x\",nx,1)\n",
    "# inputs\n",
    "nu = B.shape[1]\n",
    "u = SX.sym(\"u\",nu,1)\n",
    "# system equation expression\n",
    "x_next = A@x + B@u \n",
    "# system equation CasADi function\n",
    "system = Function(\"sys\",[x,u],[x_next])"
   ]
  },
  {
   "cell_type": "markdown",
   "metadata": {
    "graffitiCellId": "id_ithpllu"
   },
   "source": [
    "### Objective function"
   ]
  },
  {
   "cell_type": "code",
   "execution_count": null,
   "metadata": {
    "graffitiCellId": "id_mezr1ul"
   },
   "outputs": [],
   "source": [
    "# matrices\n",
    "Q = np.array([[1, 0],\n",
    "              [0, 1]])\n",
    "P = Q\n",
    "R = np.array([[5]])\n",
    "\n",
    "# stage cost\n",
    "stage_cost = x.T@Q@x+ u.T@R@u\n",
    "stage_cost_fcn = Function('stage_cost',[x,u],[stage_cost])\n",
    "\n",
    "# terminal cost\n",
    "terminal_cost = x.T@P@x\n",
    "terminal_cost_fcn = Function('terminal_cost',[x],[terminal_cost])"
   ]
  },
  {
   "cell_type": "markdown",
   "metadata": {
    "graffitiCellId": "id_vu3vtkg"
   },
   "source": [
    "### Construct problem formulation"
   ]
  },
  {
   "cell_type": "code",
   "execution_count": null,
   "metadata": {
    "graffitiCellId": "id_0p7k3x3"
   },
   "outputs": [],
   "source": [
    "# Optimization variables\n",
    "X = SX.sym(\"X\",(N+1)*nx,1)\n",
    "U = SX.sym(\"U\",N*nu,1)\n",
    "\n",
    "# Initialize placeholders\n",
    "J_stage = 0\n",
    "g_ = []\n",
    "lb_g = []\n",
    "ub_g = []\n",
    "lb_x = []\n",
    "ub_x = []\n",
    "lb_u = []\n",
    "ub_u = []\n",
    "\n",
    "# Loop for problem construction\n",
    "for k in range(N):\n",
    "    # 01 - Your code here!\n",
    "    x_k = X[k*nx:(k+1)*nx,:]\n",
    "    x_k_next = X[(k+1)*nx:(k+2)*nx,:]\n",
    "    u_k = U[k*nu:(k+1)*nu,:]\n",
    "    # 01\n",
    "\n",
    "    # 02 - Your code here!\n",
    "    # objective\n",
    "    J_stage += stage_cost_fcn(x_k,u_k)\n",
    "    # 02\n",
    "    \n",
    "    # 03 - Your code here!\n",
    "    # equality constraints (system equation)\n",
    "    x_k_next_calc = system(x_k,u_k)\n",
    "    lb_g.append(np.zeros((nx,1)))\n",
    "    ub_g.append(np.zeros((nx,1)))\n",
    "    g_.append(x_k_next - x_k_next_calc)\n",
    "    # 03\n",
    "    \n",
    "    # 04 - Your code here!\n",
    "    # input constraints\n",
    "    lb_u.append(-0.25)\n",
    "    ub_u.append(0.25)\n",
    "    # 04\n",
    "    \n",
    "    # 05 - Your code here!\n",
    "    # state constraints\n",
    "    lb_x.append(-np.ones((nx,1)))\n",
    "    ub_x.append(np.ones((nx,1)))\n",
    "    # 05\n",
    "    \n",
    "# Terminal cost and constraints\n",
    "x_terminal = X[N*nx:(N+1)*nx,:]\n",
    "J = J_stage + terminal_cost_fcn(x_terminal)\n",
    "lb_x.append(-np.ones((nx,1)))\n",
    "ub_x.append(np.ones((nx,1)))"
   ]
  },
  {
   "cell_type": "markdown",
   "metadata": {
    "graffitiCellId": "id_pe7xrdl"
   },
   "source": [
    "### Create the solver"
   ]
  },
  {
   "cell_type": "code",
   "execution_count": null,
   "metadata": {
    "graffitiCellId": "id_2am065f"
   },
   "outputs": [],
   "source": [
    "# optimization variables\n",
    "xu = vertcat(X,U)\n",
    "\n",
    "# bounds on optimization variables\n",
    "lbx = vertcat(*lb_x)\n",
    "ubx = vertcat(*ub_x)\n",
    "lbu = vertcat(*lb_u)\n",
    "ubu = vertcat(*ub_u)\n",
    "lbxu = vertcat(lbx,lbu)\n",
    "ubxu = vertcat(ubx,ubu)\n",
    "\n",
    "# equality constraints\n",
    "g = vertcat(*g_)\n",
    "lbg = vertcat(*lb_g)\n",
    "ubg = vertcat(*ub_g)\n",
    "\n",
    "# solver creation\n",
    "prob = {'f':J,'x':xu,'g':g}\n",
    "solver = nlpsol('solver','ipopt',prob)"
   ]
  },
  {
   "cell_type": "markdown",
   "metadata": {
    "graffitiCellId": "id_ahf2aaf"
   },
   "source": [
    "### Closed-loop simulation\n",
    "\n",
    "Run the closed-loop simulation and **take a closer look at the EXIT message** of the last few MPC steps. What do you notice?"
   ]
  },
  {
   "cell_type": "code",
   "execution_count": null,
   "metadata": {
    "graffitiCellId": "id_g24b6xh",
    "scrolled": false
   },
   "outputs": [],
   "source": [
    "%%capture\n",
    "# initial state\n",
    "x_k = np.array([[-0.8],\n",
    "                [ 0.8]])\n",
    "\n",
    "X_traj, U_traj = run_closed_loop_mpc(x_k, lbxu, ubxu, lbg, ubg, solver, system)"
   ]
  },
  {
   "cell_type": "markdown",
   "metadata": {
    "graffitiCellId": "id_vhwmqm0"
   },
   "source": [
    "### Visualize trajectories"
   ]
  },
  {
   "cell_type": "code",
   "execution_count": null,
   "metadata": {
    "graffitiCellId": "id_e6fjxnc"
   },
   "outputs": [],
   "source": [
    "plot_traj(X_traj, U_traj)"
   ]
  },
  {
   "cell_type": "markdown",
   "metadata": {
    "graffitiCellId": "id_bsjkkki"
   },
   "source": [
    "**<span class=\"graffiti-highlight graffiti-id_bsjkkki-id_b5vwz6a\"><i></i>Conclusion**</span>\n",
    "\n",
    "The MPC is not recursively feasible, as you can see from the flags of the optimization problem `EXIT: Converged to a point of local infeasibility. Problem may be infeasible.`.\n",
    "First, the states converge to the origin until the problem becomes infeasible.\n",
    "Then system diverges from the origin.\n",
    "In order to avoid infeasibilities, we need to design a terminal positive invariant set which needs to be considered in the MPC formulation."
   ]
  },
  {
   "cell_type": "markdown",
   "metadata": {
    "graffitiCellId": "id_2ivptea"
   },
   "source": [
    "## <span class=\"graffiti-highlight graffiti-id_2ivptea-id_7rafu4h\"><i></i>Design of ellipsoidal terminal set for recursive feasibility</span>\n",
    "\n",
    "In order to make our MPC formulation recursively feasible, we want to obtain an ellipsoidal invariant terminal set $\\mathcal{E} = \\{x \\in \\mathbb{R}^{n_x}\\, |\\, x^T P x \\leq \\alpha\\}$, where $P$ is a symmetric positive definite matrix and $\\alpha > 0$.\n",
    "The following conditions for control-invariance need to be satisfied:\n",
    "1. $\\mathcal{E} \\in \\mathcal{X}$, where $\\mathcal{X}$ are the state constraints\n",
    "1. $Kx \\in \\mathcal{U}$, where $\\mathcal{U}$ are the input constraints and $K$ is the state feedback\n",
    "1. $x_{k+1} \\in \\mathcal{E} \\, \\forall \\, x_k \\in \\mathcal{E}$\n",
    "\n",
    "Once more, we can lever the dynamic algebraic Ricatti equation (DARE).\n",
    "Its solution satisfies the third condition.\n",
    "Use the function `dare` of the `control` library to obtain the feedbak `K` and the symmetric positive matrix `P`."
   ]
  },
  {
   "cell_type": "code",
   "execution_count": null,
   "metadata": {
    "graffitiCellId": "id_igx0dl7"
   },
   "outputs": [],
   "source": [
    "# solve DARE\n",
    "\n",
    "\n",
    "# convert to numpy array\n",
    "P = np.array(P)\n",
    "K = np.array(K)"
   ]
  },
  {
   "cell_type": "markdown",
   "metadata": {
    "graffitiCellId": "id_4bmfqri"
   },
   "source": [
    "<span class=\"graffiti-highlight graffiti-id_4bmfqri-id_svasogq\"><i></i><button>Show Solution</button></span>"
   ]
  },
  {
   "cell_type": "markdown",
   "metadata": {
    "graffitiCellId": "id_plort4x"
   },
   "source": [
    "Since there are only two states, we can use graphical methods to choose $\\alpha$, such that the first two conditions are satisfied. Therefore, we need to plot the constraints.\n",
    "\n",
    "The state constraints are box constraints and can be directly plotted as a `Rectangle`.\n",
    "For the input constraints we will use the `contour` function.\n",
    "The constraints are given by $-Kx = u_{\\text{bound}}$ with $K = [k_1, k_2]$ and $u_{\\text{bound}}$ either $-0.25$ or $0.25$.\n",
    "First, we import additional functions for plotting the result."
   ]
  },
  {
   "cell_type": "code",
   "execution_count": null,
   "metadata": {
    "graffitiCellId": "id_fpw68mr"
   },
   "outputs": [],
   "source": [
    "from matplotlib.patches import Rectangle\n",
    "from matplotlib.lines import Line2D"
   ]
  },
  {
   "cell_type": "markdown",
   "metadata": {
    "graffitiCellId": "id_0682i4c"
   },
   "source": [
    "Plot the ellipse for `alpha = 1.0` by using `ax.contour` with the following keyword arguments `colors='C2',linewidths=2,linestyles='-.'`.\n",
    "What can you see?\n",
    "Adjust the value of `alpha` until the ellipse satisfies the first two conditions for positive invariance.\n",
    "\n",
    "*Hint: The ellipse needs to be within the blue rectangle and between the two hyperplanes representing the input constraints.*\n",
    "\n",
    "**Remark**\n",
    "*Usually, one would not apply graphical methods to find a feasible invariant set. Especially, if the state dimension would be larger than three, things would arguably get rather complicated. In practice, one would solve Linear Matrix Inequalities to find a suitable $\\mathcal{E}$.  But the formulation and application of this kind of optimization problems is out of the scope of this course.*"
   ]
  },
  {
   "cell_type": "code",
   "execution_count": null,
   "metadata": {
    "graffitiCellId": "id_i1vnzmj",
    "scrolled": false
   },
   "outputs": [],
   "source": [
    "alpha = 1.0\n",
    "\n",
    "# create figure\n",
    "fig, ax = plt.subplots(1,1, figsize=(8,8))\n",
    "\n",
    "# set limits and labels\n",
    "ax.set_xlim([-1.1, 1.1])\n",
    "ax.set_xlabel('x1')\n",
    "ax.set_ylim([-1.1, 1.1])\n",
    "ax.set_ylabel('x2')\n",
    "\n",
    "# state constraints (box constraints)\n",
    "state_constraints = Rectangle((-1,-1),2,2,color='C0',fill=False,linewidth=2.0)\n",
    "ax.add_artist(state_constraints)\n",
    "\n",
    "# meshgrid for contour plots\n",
    "x_vals = np.linspace(-1.1,1.1,100)\n",
    "y_vals = np.linspace(-1.1,1.1,100)\n",
    "X, Y = np.meshgrid(x_vals, y_vals)\n",
    "\n",
    "# input constraints\n",
    "Z_input = - K[0,0] * X - K[0,1] * Y\n",
    "ax.contour(X,Y,Z_input, [0.25],colors='C1',linestyles='solid',linewidths=2)\n",
    "ax.contour(X,Y,Z_input, [-0.25],colors='C1',linestyles='solid',linewidths=2)\n",
    "\n",
    "# ellipse\n",
    "\n",
    "\n",
    "\n",
    "# make legend\n",
    "legend_elements = [state_constraints,Line2D([0], [0], color='C1', lw=2),Line2D([0], [0], color='C2', lw=2, ls='-.')]\n",
    "ax.legend(legend_elements, ['state constraints','input constraints','ellipsoidal set'])"
   ]
  },
  {
   "cell_type": "markdown",
   "metadata": {
    "graffitiCellId": "id_1dvud29"
   },
   "source": [
    "<span class=\"graffiti-highlight graffiti-id_1dvud29-id_wm0a37w\"><i></i><button>Show Solution</button></span>"
   ]
  },
  {
   "cell_type": "markdown",
   "metadata": {
    "graffitiCellId": "id_vl39xq3"
   },
   "source": [
    "Instead of applying the graphical method, we could have used the algorithm that was presented in the previous task to find the maximum positive invariant set. The result of the algorithm usually yields larger control invariant sets resulting in a larger feasibiility region for the MPC, but the algorithm is only applicable under strong assumptions."
   ]
  },
  {
   "cell_type": "markdown",
   "metadata": {
    "graffitiCellId": "id_3y6f4w3"
   },
   "source": [
    "### <span class=\"graffiti-highlight graffiti-id_3y6f4w3-id_sqmar1j\"><i></i>Include the terminal set in the control problem formulation</span>\n",
    "\n",
    "Since we have now found an ellipse with $\\alpha=0.5$ that is a positive invariant set, we can use it for the terminal constraints.\n",
    "\n",
    "Please add the terminal constraints by updating `g_`, `lb_g` and `ub_g` using `alpha` and the terminal state `x_terminal`.\n",
    "Create a solver called `solver_with_terminal_set`."
   ]
  },
  {
   "cell_type": "code",
   "execution_count": null,
   "metadata": {
    "graffitiCellId": "id_jqj4mjs"
   },
   "outputs": [],
   "source": [
    "# add terminal constraint\n",
    "\n",
    "\n",
    "# solver creation\n"
   ]
  },
  {
   "cell_type": "markdown",
   "metadata": {
    "graffitiCellId": "id_fmtpc20"
   },
   "source": [
    "<span class=\"graffiti-highlight graffiti-id_fmtpc20-id_jos2hjy\"><i></i><button>Show Solution</button></span>"
   ]
  },
  {
   "cell_type": "markdown",
   "metadata": {
    "graffitiCellId": "id_t7lmsiu"
   },
   "source": [
    "### Closed-loop simulation with ellipsoidal terminal set\n",
    "We can now again simulate the MPC with the ellipsoidal terminal set and plot the resulting trajectories.\n",
    "If we were to print the results from the solver, we omit it here with ``%%capture``, we would see:\n",
    "The solver always finds the optimal solution: `EXIT: Optimal Solution Found.`."
   ]
  },
  {
   "cell_type": "code",
   "execution_count": null,
   "metadata": {
    "graffitiCellId": "id_eje6um0",
    "scrolled": true
   },
   "outputs": [],
   "source": [
    "%%capture\n",
    "# initial state\n",
    "x_k = np.array([[-0.8],\n",
    "                [ 0.8]])\n",
    "\n",
    "X_traj, U_traj = run_closed_loop_mpc(x_k, lbxu, ubxu, lbg, ubg, solver_with_terminal_set, system)"
   ]
  },
  {
   "cell_type": "markdown",
   "metadata": {
    "graffitiCellId": "id_6h8xg77"
   },
   "source": [
    "### Visualize trajectories"
   ]
  },
  {
   "cell_type": "code",
   "execution_count": null,
   "metadata": {
    "graffitiCellId": "id_vs75vdg"
   },
   "outputs": [],
   "source": [
    "plot_traj(X_traj, U_traj)"
   ]
  },
  {
   "cell_type": "markdown",
   "metadata": {
    "graffitiCellId": "id_mscbfnm"
   },
   "source": [
    "As you can see, the optimal control problem is always feasible, but it does not converge to the origin. In order to obtain asymptotic stability, we need to ensure that our value function (the optimal value of the objective function) is a Lyapunov function.\n",
    "\n",
    "## <span class=\"graffiti-highlight graffiti-id_mscbfnm-id_k6mx01p\"><i></i>Solver with terminal set and terminal penalty</span>\n",
    "\n",
    "The condition for asymptotic stability, that needs to be satisfied is\n",
    "$$\n",
    "V_N(Ax+Bu)- V_N(x) \\leq -x^T Q x, u \\in \\mathcal{U}, \\forall x \\in \\mathcal{E}.\n",
    "$$\n",
    "The solution of the DARE $P$ is a terminal weight matrix which guarantees asymptotic stability for a stabilizing feedback $K$.\n",
    "\n",
    "Please update the cost function `J` by using `J_stage` and `x_terminal` and adding the quadratic terminal penalty based on `P`. Create a solver named `solver_with_terminal_set_and_penalty`."
   ]
  },
  {
   "cell_type": "code",
   "execution_count": null,
   "metadata": {
    "graffitiCellId": "id_r9b7qzl"
   },
   "outputs": [],
   "source": [
    "# Update the terminal cost\n",
    "\n",
    "\n",
    "# solver creation\n",
    "\n"
   ]
  },
  {
   "cell_type": "markdown",
   "metadata": {
    "graffitiCellId": "id_4h4itjv"
   },
   "source": [
    "<span class=\"graffiti-highlight graffiti-id_4h4itjv-id_z9mtds5\"><i></i><button>Show Solution</button></span>"
   ]
  },
  {
   "cell_type": "markdown",
   "metadata": {
    "graffitiCellId": "id_litlkbg"
   },
   "source": [
    "### Closed-loop simulation with terminal set and terminal penalty\n",
    "Now we have implemented a positive invariant terminal set and a stabilizing terminal cost.\n",
    "We can verify this by running one last simulation and plotting the trajectories."
   ]
  },
  {
   "cell_type": "code",
   "execution_count": null,
   "metadata": {
    "graffitiCellId": "id_kozjrip"
   },
   "outputs": [],
   "source": [
    "%%capture\n",
    "# initial state\n",
    "x_k = np.array([[-0.8],\n",
    "                [ 0.8]])\n",
    "\n",
    "X_traj, U_traj = run_closed_loop_mpc(x_k, lbxu, ubxu, lbg, ubg, solver_with_terminal_set_and_penalty, system)"
   ]
  },
  {
   "cell_type": "markdown",
   "metadata": {
    "graffitiCellId": "id_xz6miiy"
   },
   "source": [
    "### Visualize the trajectories"
   ]
  },
  {
   "cell_type": "code",
   "execution_count": null,
   "metadata": {
    "graffitiCellId": "id_e9uan9x"
   },
   "outputs": [],
   "source": [
    "plot_traj(X_traj, U_traj)"
   ]
  },
  {
   "cell_type": "markdown",
   "metadata": {
    "graffitiCellId": "id_wfx7zxh"
   },
   "source": [
    "Now we have reached our goal to design an MPC controller that is recursely feasible and asymptotically stabilizing.\n",
    "\n",
    "## Congratulations, you have completed Tutorial 9!"
   ]
  }
 ],
 "metadata": {
  "colab": {
   "collapsed_sections": [],
   "name": "MPC_SS19_CasADi_exercise.ipynb",
   "provenance": [
    {
     "file_id": "153DDJaUNCaTvB8CXGm3tmfsQU_v-HYbe",
     "timestamp": 1556527924079
    },
    {
     "file_id": "1tpHK2rVOEyfpGWfHEr05SdgaDNhoLnLr",
     "timestamp": 1556454778896
    },
    {
     "file_id": "1N3yvBCAn6bHwKmgZWqCTLB_hpQIiBYip",
     "timestamp": 1525847821530
    }
   ],
   "toc_visible": true,
   "version": "0.3.2"
  },
  "graffiti": {
   "firstAuthorId": "dev",
   "id": "id_i1hvk72",
   "language": "EN"
  },
  "kernelspec": {
   "display_name": "PAS",
   "language": "python",
   "name": "pas"
  },
  "language_info": {
   "codemirror_mode": {
    "name": "ipython",
    "version": 3
   },
   "file_extension": ".py",
   "mimetype": "text/x-python",
   "name": "python",
   "nbconvert_exporter": "python",
   "pygments_lexer": "ipython3",
   "version": "3.9.13"
  }
 },
 "nbformat": 4,
 "nbformat_minor": 1
}
