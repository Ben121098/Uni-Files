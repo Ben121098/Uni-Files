{
 "cells": [
  {
   "cell_type": "markdown",
   "id": "69e60f36",
   "metadata": {
    "graffitiCellId": "id_cnlyu8t",
    "pycharm": {
     "name": "#%% md\n"
    }
   },
   "source": [
    "<table style=\"width:100%\"><tr>\n",
    "<td> \n",
    "    \n",
    "Technische Universität Dortmund\\\n",
    "Department of Bio- and Chemical Engineering\\\n",
    "Laboratory of Process Automation Systems\\\n",
    "Prof. Dr. Sergio Lucia</td>\n",
    "<td>  <img src=\"tudo_logo.png\" style=\"width: 60%;\" align=\"right\"/> </td>\n",
    "</tr>\n",
    "</table>\n",
    "\n",
    "# Advanced Process Control - Tutorial 03\n",
    "WS 2022 / 2023\n",
    "***\n",
    "# <span class=\"graffiti-highlight graffiti-id_cnlyu8t-id_fuwt5p5\"><i></i>State Estimation of Linear Systems</span>\n",
    "\n",
    "In this exercise we will perfom state estimation for linear systems using Luenberger observer and Kalman filter.\\\n",
    "**We assume that you have completed the previous exercise in which we showed you the basics of Python and CasADi.**\n"
   ]
  },
  {
   "cell_type": "markdown",
   "id": "7900c11e",
   "metadata": {
    "graffitiCellId": "id_xyhmj1s",
    "pycharm": {
     "name": "#%% md\n"
    }
   },
   "source": [
    "# <span class=\"graffiti-highlight graffiti-id_xyhmj1s-id_9f6f3rv\"><i></i>Part 1 - Introduction to Luenberger Observer</span>\n",
    "Consider the linear discrete system given in the equation below\n",
    "\\begin{align}\n",
    "x_{k+1} &= \\begin{pmatrix}\n",
    "\t\t\t\t\t\t\t\t\t\t1.80 & -0.81\\\\\n",
    "\t\t\t\t\t\t\t\t\t\t1 & 0.01\n",
    "\t\t\t\t\t\t \\end{pmatrix} x_k + \\begin{pmatrix}\n",
    "\t\t\t\t\t\t\t\t\t\t\t\t\t\t\t\t\t\t\t\t\t\t\t\t\t0 \\\\\n",
    "\t\t\t\t\t\t\t\t\t\t\t\t\t\t\t\t\t\t\t\t\t\t\t\t\t-1\n",
    "\t\t\t\t\t\t\t\t\t\t\t\t\t\t\t\t\t\t\t\t\t\\end{pmatrix}u_k,\\label{eq:one}\\\\\n",
    "y_k &= \\begin{pmatrix}\n",
    "\t\t\t\t\t\t\t\t\t\t1 &\t0\n",
    "\t\t\t\t\t\t \\end{pmatrix}x_k.\\nonumber\n",
    "\\end{align}\n",
    "\n",
    "The initial condition for the real process is $x_{0} = [-2,\\,-2,]$ and for the observer is $\\hat{x}_{0} = [-15,\\,-3].$ We have a constant input to the system $u=1$.\\\n",
    "Design a Luenberger observer for the given system."
   ]
  },
  {
   "cell_type": "markdown",
   "id": "24ed4c61",
   "metadata": {
    "graffitiCellId": "id_zyzo6yb",
    "pycharm": {
     "name": "#%% md\n"
    }
   },
   "source": [
    "First we need to import the required Python packages:"
   ]
  },
  {
   "cell_type": "code",
   "execution_count": null,
   "id": "cd927415",
   "metadata": {
    "graffitiCellId": "id_bqo0apj",
    "pycharm": {
     "name": "#%%\n"
    }
   },
   "outputs": [],
   "source": [
    "# Generally used Python packages\n",
    "\n",
    "import numpy as np\n",
    "import matplotlib.pyplot as plt\n",
    "import control\n",
    "import scipy.linalg as linalg\n"
   ]
  },
  {
   "cell_type": "markdown",
   "id": "0a95adfe",
   "metadata": {
    "graffitiCellId": "id_7apfxhr",
    "pycharm": {
     "name": "#%% md\n"
    }
   },
   "source": [
    "## Task 01: Define system matrices   \n",
    "\n",
    "1. Define as variables the number of states `nx`, the number of inputs `nu` and the number of outputs `ny` for the  given system. \n",
    "\n",
    "2. Define the system matrix `A`, the input matrix `B` , and the output matrix `C` for the investigated system using numpy. Ensure that the system matrices match the dimensions of the system. \n",
    "\n",
    "\n",
    "Then we define the model of the system in state space form:"
   ]
  },
  {
   "cell_type": "code",
   "execution_count": null,
   "id": "a304976f",
   "metadata": {
    "graffitiCellId": "id_dygqei0",
    "pycharm": {
     "name": "#%%\n"
    }
   },
   "outputs": [],
   "source": [
    "# your code here !\n"
   ]
  },
  {
   "cell_type": "markdown",
   "id": "f9ae3151",
   "metadata": {
    "graffitiCellId": "id_mycwkqy"
   },
   "source": [
    "<span class=\"graffiti-highlight graffiti-id_mycwkqy-id_kfnn9or\"><i></i><button>Show Solution</button></span>"
   ]
  },
  {
   "cell_type": "markdown",
   "id": "b669c312",
   "metadata": {
    "graffitiCellId": "id_47i954v"
   },
   "source": [
    "code <span class=\"graffiti-highlight graffiti-id_47i954v-id_lq6ryj6\"><i></i>explanation</span>."
   ]
  },
  {
   "cell_type": "markdown",
   "id": "b4109d8a",
   "metadata": {
    "graffitiCellId": "id_nou1nb5",
    "pycharm": {
     "name": "#%% md\n"
    }
   },
   "source": [
    "### <span class=\"graffiti-highlight graffiti-id_nou1nb5-id_hc25xxz\"><i></i>Is the system observable ?</span>\n",
    "Before we design a Luenberger observer we need to first check if the system is observable.\\\n",
    "\\\n",
    "**Recap :** \\\n",
    "For any linear time-invariant system the observability of the system can be checked using the Kalman criterion. The system is observable if and only if the rank of the observability matrix rank($\\mathcal{O}$) is equal to the order of the system ($n$). The observability matrix is defined as:  \n",
    "\n",
    "\\begin{align}\n",
    "\\mathcal{O} &= \\begin{pmatrix}\n",
    "\t\t\t\t\t\t\t\t\t\tC\\\\\n",
    "\t\t\t\t\t\t\t\t\t\tCA \\\\\n",
    "                                        \\vdots \\\\\n",
    "                                        CA^{n-1} \\\\\n",
    "\t\t\t\t\t\t \\end{pmatrix}  \n",
    "\\end{align}"
   ]
  },
  {
   "cell_type": "markdown",
   "id": "84429776",
   "metadata": {
    "graffitiCellId": "id_wie6e3z",
    "pycharm": {
     "name": "#%% md\n"
    }
   },
   "source": [
    "## Task 02: Investigate the observability of the proposed system\n",
    "\n",
    "1. Write a function ``O=observability_matrix(A,C)`` to obtain the observability matrix \n",
    "2. Check whether the system is observable.\n",
    "\n",
    "**Hints:**\n",
    "- You might need to use the [matrix_power](https://numpy.org/doc/stable/reference/generated/numpy.linalg.matrix_power.html) function"
   ]
  },
  {
   "cell_type": "code",
   "execution_count": null,
   "id": "2a79c032",
   "metadata": {
    "graffitiCellId": "id_1amyak8",
    "pycharm": {
     "name": "#%%\n"
    }
   },
   "outputs": [],
   "source": [
    "# your code here !"
   ]
  },
  {
   "cell_type": "markdown",
   "id": "b7f69d9c",
   "metadata": {
    "graffitiCellId": "id_6u6g4qd"
   },
   "source": [
    "<span class=\"graffiti-highlight graffiti-id_6u6g4qd-id_t22hqp4\"><i></i><button>Show Solution</button></span>"
   ]
  },
  {
   "cell_type": "markdown",
   "id": "658aae01",
   "metadata": {
    "graffitiCellId": "id_9vvr2je",
    "pycharm": {
     "name": "#%% md\n"
    }
   },
   "source": [
    "code <span class=\"graffiti-highlight graffiti-id_9vvr2je-id_ntghgeb\"><i></i>explanation</span>."
   ]
  },
  {
   "cell_type": "markdown",
   "id": "039203bc",
   "metadata": {
    "graffitiCellId": "id_pmirxvb",
    "pycharm": {
     "name": "#%% md\n"
    }
   },
   "source": [
    "### <span class=\"graffiti-highlight graffiti-id_pmirxvb-id_2v9bsbp\"><i></i>Luenburger Observer </span>\n",
    "After confirming that the system is observable we move on to designing the Luenburger Observer.The estimated state ($\\hat x$) dynamics are defined as:\\\n",
    "<br/>\n",
    "\\begin{equation}\n",
    "\\hat x_{k+1} = A\\hat{x}_k + B u_k + L(y_k - \\hat{y}_k)\\\n",
    "\\end{equation}\n",
    "<br/>\n",
    "\n",
    "The error dynamics of the observed system can then be stated as:\n",
    "\n",
    "<br/>\n",
    "\n",
    "\\begin{equation}\n",
    "e_k = x_k-\\hat{x}_k\\\\\n",
    "\\\\\n",
    "e_{k+1} = x_{k+1}-\\hat{x}_{k+1}\\\\\n",
    "\\\\\n",
    "=(A-LC)e_k\n",
    "\\end{equation}\n",
    "\n",
    "<br/>\n",
    "\n",
    "\n",
    "The matrix $L$ is the observer gain matrix and it is desgined such that the eigenvalues of the error dynamics are stable. The system is stated in discrete-time. Therefore, for the system to be asymptotically stable, the eigenvalues have to be less than $1$.\n",
    "\n",
    "In this excercise it is desired to place the eigenvalues of the error dynamics at $[0.3, 0.5]$. \n",
    "Use the command [place](https://python-control.readthedocs.io/en/latest/generated/control.place.html) from the control toolbox to obtain the observer gain matrix for the desired eigenvalues.\n",
    "\n",
    "**Important:**\n",
    "The place algorithm is designed for the control task where we seek to obtain a controller gain matrix $K$ for the dynamics: \n",
    "\n",
    "$$x_{k+1}=(A-BK)x_k$$\n",
    "\n",
    "with matrix $(A-BK)$.\n",
    "To get a similar structure for the observation task, we need to transpose the matrix $(A-LC)^\\top = (A^\\top-C^\\top L^\\top)$."
   ]
  },
  {
   "cell_type": "markdown",
   "id": "f6094c6c",
   "metadata": {
    "graffitiCellId": "id_fsw247g",
    "pycharm": {
     "name": "#%% md\n"
    }
   },
   "source": [
    "## Task 03: Eigenvalue placement\n",
    "1. Define the new eigenvalues (`New_eigen_val`) for the observed system.\n",
    "2. Calculate the observer gain (`L`) for the desired eigenvalues with ``control.place`` function."
   ]
  },
  {
   "cell_type": "code",
   "execution_count": null,
   "id": "a656ca46",
   "metadata": {
    "graffitiCellId": "id_28gbcw6",
    "pycharm": {
     "name": "#%%\n"
    }
   },
   "outputs": [],
   "source": [
    "# your code here !"
   ]
  },
  {
   "cell_type": "markdown",
   "id": "c46639d4",
   "metadata": {
    "graffitiCellId": "id_ouyca48"
   },
   "source": [
    "<span class=\"graffiti-highlight graffiti-id_ouyca48-id_7eu2vmb\"><i></i><button>Show Solution</button></span>"
   ]
  },
  {
   "cell_type": "markdown",
   "id": "84a1397f",
   "metadata": {
    "graffitiCellId": "id_pmupx2m",
    "pycharm": {
     "name": "#%% md\n"
    }
   },
   "source": [
    "## Task 04: Define the initial conditions and input\n",
    "Define the initial condition for the real process and the Luenberger observer.\n",
    "1. Define the constant input (`u`) to the system ($u=1$).\n",
    "2. Define the initial conditions for the observer (`x0_observer`) and the process (`x0`)."
   ]
  },
  {
   "cell_type": "code",
   "execution_count": null,
   "id": "f6bd69d2",
   "metadata": {
    "graffitiCellId": "id_dkxcyuy",
    "pycharm": {
     "name": "#%%\n"
    }
   },
   "outputs": [],
   "source": [
    "# your code here ! "
   ]
  },
  {
   "cell_type": "markdown",
   "id": "83a9c48f",
   "metadata": {
    "graffitiCellId": "id_yg7kg4x"
   },
   "source": [
    "<span class=\"graffiti-highlight graffiti-id_yg7kg4x-id_e1m09hq\"><i></i><button>Show Solution</button></span>"
   ]
  },
  {
   "cell_type": "markdown",
   "id": "a07974fe",
   "metadata": {
    "graffitiCellId": "id_9e9zh5q",
    "pycharm": {
     "name": "#%% md\n"
    }
   },
   "source": [
    "## <span class=\"graffiti-highlight graffiti-id_9e9zh5q-id_td658z3\"><i></i>Task 05: Simulate and estimate the system with Luenberger</span>\n",
    "\n",
    "Now we would like to simulate how the Luenburger Observer performs for the calulated gains.\n",
    "1. Define the number of steps (`N_sim=60`)\n",
    "2. Initiate lists to store the real (`x_data`) and estimated states (`x_hat_data`). \n",
    "    1. These lists should already contain the real and estimated initial state.\n",
    "    2. During the simulation append at each iteration the new real and estimated state.\n",
    "3. Create a loop over the number of steps to simulate the true system behavior and the estimated states. At each iteration\n",
    "    1. Compute the measurements ``y``.\n",
    "    2. Update the true system state ``x0``.\n",
    "    3. Compute the estimated measurements ``y_hat`` \n",
    "    4. Compute the estimated states ``x_hat``\n",
    "    5. Append the true and estimated states to ``x_data`` and ``x_hat_data``."
   ]
  },
  {
   "cell_type": "code",
   "execution_count": null,
   "id": "3598742e",
   "metadata": {
    "graffitiCellId": "id_6sdcdit",
    "pycharm": {
     "name": "#%%\n"
    }
   },
   "outputs": [],
   "source": [
    "# your code here ! "
   ]
  },
  {
   "cell_type": "markdown",
   "id": "bb8dbfa0",
   "metadata": {
    "graffitiCellId": "id_xgkagtg"
   },
   "source": [
    "<span class=\"graffiti-highlight graffiti-id_xgkagtg-id_wotpgf0\"><i></i><button>Show Solution</button></span>"
   ]
  },
  {
   "cell_type": "markdown",
   "id": "f887860f",
   "metadata": {
    "graffitiCellId": "id_6jectdb"
   },
   "source": [
    "code <span class=\"graffiti-highlight graffiti-id_6jectdb-id_gjumx7f\"><i></i>explanation</span>."
   ]
  },
  {
   "cell_type": "markdown",
   "id": "6f8d4c1a",
   "metadata": {
    "graffitiCellId": "id_0k46yts",
    "pycharm": {
     "name": "#%% md\n"
    }
   },
   "source": [
    "## Plotting the results\n",
    "We have prepared this code to plot your simulation results:"
   ]
  },
  {
   "cell_type": "code",
   "execution_count": null,
   "id": "3babb645",
   "metadata": {
    "graffitiCellId": "id_ulw0ase",
    "pycharm": {
     "name": "#%%\n"
    }
   },
   "outputs": [],
   "source": [
    "# Make an array:\n",
    "res_x = np.concatenate(x_data, axis=1).transpose()\n",
    "res_x_hat = np.concatenate(x_hat_data, axis=1).transpose()\n",
    "\n",
    "# Plot\n",
    "fig, ax = plt.subplots(2, figsize=(10, 6))\n",
    "time = np.linspace(0, 60, 61)\n",
    "p1, = ax[0].plot(time, res_x[:, 0], 'r-')\n",
    "p2, = ax[1].plot(time, res_x[:, 1], 'm-')\n",
    "p3, = ax[0].plot(time, res_x_hat[:, 0], 'b--')\n",
    "p4, = ax[1].plot(time, res_x_hat[:, 1], 'k--')\n",
    "ax[0].legend((p1, p3), ('x_1', 'x_1_observer'))\n",
    "ax[1].legend((p2, p4), ('x_2', 'x_2_observer'))\n",
    "\n",
    "# Set labels\n",
    "ax[0].set_ylabel('state')\n",
    "ax[0].set_xlabel('time')\n",
    "ax[1].set_ylabel('state')\n",
    "ax[1].set_xlabel('time')\n"
   ]
  },
  {
   "cell_type": "markdown",
   "id": "24988204",
   "metadata": {
    "graffitiCellId": "id_u93bdny",
    "pycharm": {
     "name": "#%% md\n"
    }
   },
   "source": [
    "<span class=\"graffiti-highlight graffiti-id_u93bdny-id_o2te5dt\"><i></i>what do you see ?</span>"
   ]
  },
  {
   "cell_type": "markdown",
   "id": "85663c14",
   "metadata": {
    "graffitiCellId": "id_ugzgp2p",
    "pycharm": {
     "name": "#%% md\n"
    }
   },
   "source": [
    "# <span class=\"graffiti-highlight graffiti-id_ugzgp2p-id_krphs2i\"><i></i>Part 2 - Luenberger Observer for CSTR</span>\n",
    "Consider the continuously stirred tank reactor (CSTR) with a reaction:\n",
    "$$\n",
    "A \\overset{k_{AB}}{\\longrightarrow} B\n",
    "\\underset{k_{CB}}{\\overset{k_{BC}}{\\rightleftharpoons}} C.\n",
    "$$\n",
    "\n",
    "Assume that the total volume flow entering is equal to the volume flow leaving the system: $\\dot V_{in}=\\dot V_{out}=\\dot V=const$. The\n",
    "control input of the system is the concentration of component $A$ at the reactor inlet ($c_{A0}$), the measured output the concentration of component $B$ ($c_B$). The component balances are:\n",
    "\\begin{eqnarray}\n",
    "\\frac{d c_A}{dt} & = & \\frac{\\dot V }{V_R}(c_{A0}-c_A)-k_{AB}c_A\\\\\n",
    "\\frac{d c_B}{dt} &=& -\\frac{\\dot V }{V_R} c_B + k_{AB} c_A + k_{CB} c_C -\n",
    "k_{BC} c_B\\\\\n",
    "\\frac{d c_C}{dt} &=& -\\frac{\\dot V}{V_{R}} c_C + k_{BC} c_B - k_{CB} c_C\n",
    "\\end{eqnarray}\n",
    "with $c_{A0} = 1$, $k_{AB} = 1.5$, $k_{BC}=3$, $k_{CB}=2$, $\\dot V = 1$ and $V_R = 10$.\n",
    "\n",
    "The measurement as well as the system are subject to process noise $w_x$ and measurements noise $w_y$:\n",
    "\n",
    "$$\n",
    "\\begin{align}\n",
    "x_{k+1} &= Ax_k + Bu_k + w_x \\\\\n",
    "y_{k} &= Cx_k + w_y\n",
    "\\end{align}\n",
    "$$\n",
    "\n",
    "Design a Luenberger observer for the given system. Construct the feedback matrix $L$ of the Luenberger observer by eigenvalue placement. The initial state values are $x_0 = [0.2,\\,0.2,\\,0.2]$ for the real process and $\\hat{x}_0 = [0.5,\\,0.5,\\,0.5]$ for the observer. "
   ]
  },
  {
   "cell_type": "markdown",
   "id": "dc8e55d8",
   "metadata": {
    "graffitiCellId": "id_ldffevu",
    "pycharm": {
     "name": "#%% md\n"
    }
   },
   "source": [
    "## Implementation of the dynamic model\n",
    "\n",
    "In this task you are given the dynamic model below. Notice that we are using again the variables ``A``, ``B`` and ``C`` as well as ``nx``, ``nu`` and ``ny``."
   ]
  },
  {
   "cell_type": "code",
   "execution_count": null,
   "id": "c6297799",
   "metadata": {
    "graffitiCellId": "id_qsp18b7"
   },
   "outputs": [],
   "source": [
    "# Number of states (nx), input (nu) and measured output (ny)\n",
    "nx = 3\n",
    "nu = 1\n",
    "ny = 1\n",
    "\n",
    "# Model parameter\n",
    "kAB = 1.5\n",
    "kBC = 3\n",
    "kCB = 2\n",
    "dvdt = 1\n",
    "VR = 10\n",
    "\n",
    "# Continous-time model in state space form\n",
    "A = np.array([[-kAB - dvdt / VR, 0, 0],\n",
    "              [kAB, -kBC - dvdt / VR, kCB],\n",
    "              [0, kBC, -kCB - dvdt / VR]]).reshape(nx, nx)\n",
    "B = np.array([[dvdt / VR], [0], [0]]).reshape(nx, nu)\n",
    "C = np.array([[0, 1, 0]]).reshape(ny, nx)"
   ]
  },
  {
   "cell_type": "markdown",
   "id": "2b7fa08d",
   "metadata": {
    "graffitiCellId": "id_mep2bxd",
    "pycharm": {
     "name": "#%% md\n"
    }
   },
   "source": [
    "## <span class=\"graffiti-highlight graffiti-id_mep2bxd-id_redtuxv\"><i></i>Discretize the continous system</span>"
   ]
  },
  {
   "cell_type": "markdown",
   "id": "a9049cad",
   "metadata": {
    "graffitiCellId": "id_8a70jzk",
    "pycharm": {
     "name": "#%% md\n"
    }
   },
   "source": [
    "Since we are designing a discrete Luenberger Observer, we need to discretize the given system. For linear ordinary differential equations an exact discretization is possible and can be obtained with the following formula:\n",
    "\\\n",
    "<br/>\n",
    "\\begin{equation}\n",
    "x_{k+1} = \\mathrm{e^{At_{s}}}x_k + A^{-1}(A_{d}-I)Bu(k)\\\n",
    "\\end{equation}\n",
    "<br/>\n",
    "\n",
    "\n",
    "where $A$ and $B$ are the system and input matrix. $t_{s}$ is the sampling time. More information on the derivation of the above formula can be found [here](https://en.wikipedia.org/wiki/Discretization).\n",
    "\n",
    "**Note**:\n",
    "- The output matrix $C$ is the same for the discrete and continous system.\n"
   ]
  },
  {
   "cell_type": "markdown",
   "id": "4bc4f346",
   "metadata": {
    "graffitiCellId": "id_p9wnurg",
    "pycharm": {
     "name": "#%% md\n"
    }
   },
   "source": [
    "## Task 06: Discretization\n",
    "\n",
    "Discretize the given continous system matrix (`A_discrete`) and input matrix (`B_discrete`) for a sampling time ($t_{s}$) = 0.1s (`step_size`).\n",
    "\n",
    "**Hints:**\n",
    "1. For inverse of a matrix use [np.linalg.inv](https://numpy.org/doc/stable/reference/generated/numpy.linalg.inv.html) command.\n",
    "2. To compute the matrix exponential use [linalg.expm](https://docs.scipy.org/doc/scipy-0.14.0/reference/generated/scipy.linalg.expm.html) command.\n",
    "3. To get an identity matrix use [np.eye](https://numpy.org/devdocs/reference/generated/numpy.eye.html)."
   ]
  },
  {
   "cell_type": "code",
   "execution_count": null,
   "id": "b8ce47d8",
   "metadata": {
    "graffitiCellId": "id_x11v5ci",
    "pycharm": {
     "name": "#%%\n"
    }
   },
   "outputs": [],
   "source": [
    "# your code here"
   ]
  },
  {
   "cell_type": "markdown",
   "id": "2fc3c832",
   "metadata": {
    "graffitiCellId": "id_9mco8ay"
   },
   "source": [
    "<span class=\"graffiti-highlight graffiti-id_9mco8ay-id_dquu6ua\"><i></i><button>Show Solution</button></span>"
   ]
  },
  {
   "cell_type": "markdown",
   "id": "e7fd5190",
   "metadata": {
    "graffitiCellId": "id_af9xrln",
    "pycharm": {
     "name": "#%% md\n"
    }
   },
   "source": [
    "## Initial conditions and input\n",
    "\n",
    "We define the initial conditions for the true and estimated states as well as the input to the system below."
   ]
  },
  {
   "cell_type": "code",
   "execution_count": null,
   "id": "61e3d4a1",
   "metadata": {
    "graffitiCellId": "id_7c1b0ce",
    "pycharm": {
     "name": "#%%\n"
    }
   },
   "outputs": [],
   "source": [
    "# Initial condition of real process\n",
    "x0 = np.array([[0.2], [0.2], [0.2]]).reshape(nx,1)\n",
    "\n",
    "# Initial condition for observer\n",
    "x0_observer = np.array([[0.5], [0.5], [0.5]]).reshape(nx,1)\n",
    "\n",
    "# Input\n",
    "C_A0 = 1\n",
    "u = np.array([[C_A0]])"
   ]
  },
  {
   "cell_type": "markdown",
   "id": "83b545ce",
   "metadata": {
    "graffitiCellId": "id_ivq8zhg",
    "pycharm": {
     "name": "#%% md\n"
    }
   },
   "source": [
    "## Task 08: Eigenvalue placement\n",
    "1. Define the new eigenvalues (`New_eigen_val`) for the observed system.\n",
    "2. Calculate the observer gain (`L`) for the desired eigenvalues with ``control.place`` function."
   ]
  },
  {
   "cell_type": "code",
   "execution_count": null,
   "id": "f2dcebb1",
   "metadata": {
    "graffitiCellId": "id_33l7dmn",
    "pycharm": {
     "name": "#%%\n"
    }
   },
   "outputs": [],
   "source": [
    "# your code here !"
   ]
  },
  {
   "cell_type": "markdown",
   "id": "443a048d",
   "metadata": {
    "graffitiCellId": "id_ullv717"
   },
   "source": [
    "<span class=\"graffiti-highlight graffiti-id_ullv717-id_2pqssem\"><i></i><button>Show Solution</button></span>"
   ]
  },
  {
   "cell_type": "markdown",
   "id": "9ae92b14",
   "metadata": {
    "graffitiCellId": "id_jnnf5b4",
    "pycharm": {
     "name": "#%% md\n"
    }
   },
   "source": [
    "## <span class=\"graffiti-highlight graffiti-id_jnnf5b4-id_6o4iqyf\"><i></i>Task 09: Simulate and estimate the CSTR with Luenberger</span>\n",
    "\n",
    "Similarly to task 5, simulate and estimate the CSTR with the Luenberger observer. We follow the same steps:\n",
    "1. Define the number of steps (`N_sim`) considering the desired simulation time of 60 seconds.\n",
    "2. Initiate lists to store the real (`x_data`) and estimated states (`x_hat_data`). \n",
    "    1. These lists should already contain the real and estimated initial state.\n",
    "    2. During the simulation append at each iteration the new real and estimated state.\n",
    "3. Create a loop over the number of steps to simulate the true system behavior and the estimated states. At each iteration\n",
    "    1. Compute the measurements ``y``.\n",
    "    2. Update the true system state ``x0``.\n",
    "    3. Compute the estimated measurements ``y_hat``. \n",
    "    4. Compute the estimated states ``x_hat``.\n",
    "    5. Append the true and estimated states to ``x_data`` and ``x_hat_data``.\n",
    "    \n",
    "As an important difference, we now want to also consider the presence of process noise `w_x` with $w_x\\sim \\mathcal{N}(0,\\, I_{n_x}\\cdot10^{-6})$ and\n",
    "measurement noise `w_y` with  $w_y\\sim \\mathcal{N}(0,\\, 10^{-3})$ ). \n",
    "1. Define the noise variances ``var_x`` and ``var_y``.\n",
    "2. Initiate a list to store the obtained (noise disturbed) measurements ``y_measured``.\n",
    "2. At each iteration of the simulation:\n",
    "    1. Sample values for ``w_x`` and ``w_y`` with the described variances.\n",
    "    2. Add the process and measurement noise.\n",
    "    3. Append the obtained measurements to ``y_measured``.\n",
    "    \n",
    "**Hint:** \n",
    "- For the gaussian white noise you can use [numpy.random.normal](https://numpy.org/doc/stable/reference/random/generated/numpy.random.normal.html). Notice that the function requires the standard deviation instead of the variance."
   ]
  },
  {
   "cell_type": "code",
   "execution_count": null,
   "id": "1d9aaf86",
   "metadata": {
    "graffitiCellId": "id_4wvpvmf",
    "pycharm": {
     "name": "#%%\n"
    }
   },
   "outputs": [],
   "source": [
    "# your code here !"
   ]
  },
  {
   "cell_type": "markdown",
   "id": "f952eef2",
   "metadata": {
    "graffitiCellId": "id_b3q1b06"
   },
   "source": [
    "<span class=\"graffiti-highlight graffiti-id_b3q1b06-id_56ag869\"><i></i><button>Show Solution</button></span>"
   ]
  },
  {
   "cell_type": "markdown",
   "id": "d4328aa8",
   "metadata": {
    "graffitiCellId": "id_dst2qso"
   },
   "source": [
    "code <span class=\"graffiti-highlight graffiti-id_dst2qso-id_lj6niri\"><i></i>explanation</span>."
   ]
  },
  {
   "cell_type": "markdown",
   "id": "df76101d",
   "metadata": {
    "graffitiCellId": "id_4ijyngy",
    "pycharm": {
     "name": "#%% md\n"
    }
   },
   "source": [
    "## Plotting the results\n",
    "We have prepared this code to plot your simulation results:"
   ]
  },
  {
   "cell_type": "code",
   "execution_count": null,
   "id": "064d5495",
   "metadata": {
    "graffitiCellId": "id_2s4l2xu",
    "pycharm": {
     "name": "#%%\n"
    },
    "scrolled": false
   },
   "outputs": [],
   "source": [
    "# Make an array:\n",
    "res_x = np.concatenate(x_data, axis=1).T\n",
    "res_x_hat = np.concatenate(x_hat_data, axis=1).T\n",
    "res_y_measured = np.array(y_measured)\n",
    "\n",
    "# Plot\n",
    "fig_2, ax_2 = plt.subplots(figsize=(10, 6))\n",
    "time = step_size*np.arange(N_sim+1)\n",
    "\n",
    "p1, = ax_2.plot(time[1:], res_y_measured[:], 'c.')\n",
    "p2, = ax_2.plot(time, res_x[:, 0], 'b-')\n",
    "p3, = ax_2.plot(time, res_x[:, 1], 'g-')\n",
    "p4, = ax_2.plot(time, res_x[:, 2], 'r-')\n",
    "p5, = ax_2.plot(time, res_x_hat[:, 0], 'b--')\n",
    "p6, = ax_2.plot(time, res_x_hat[:, 1], 'g--')\n",
    "p7, = ax_2.plot(time, res_x_hat[:, 2], 'r--')\n",
    "ax_2.legend((p1, p2, p3, p4, p5, p6, p7), ('x_2_meas','x_1', 'x_2', 'x_3', 'x_1_observer', 'x_2_observer','x_3_observer'),loc=\"upper right\")\n",
    "\n",
    "# Set labels\n",
    "ax_2.set_ylabel('state')\n",
    "ax_2.set_xlabel('time')"
   ]
  },
  {
   "cell_type": "markdown",
   "id": "c65d85ed",
   "metadata": {
    "graffitiCellId": "id_9wnrsn3",
    "pycharm": {
     "name": "#%% md\n"
    }
   },
   "source": [
    "<span class=\"graffiti-highlight graffiti-id_9wnrsn3-id_e76eg2k\"><i></i>what do you see ?</span>"
   ]
  },
  {
   "cell_type": "markdown",
   "id": "7d7c0a63",
   "metadata": {
    "graffitiCellId": "id_knqoh1k",
    "pycharm": {
     "name": "#%% md\n"
    }
   },
   "source": [
    "# <span class=\"graffiti-highlight graffiti-id_knqoh1k-id_kil29lg\"><i></i>Part 3 - Kalman Filter</span>"
   ]
  },
  {
   "cell_type": "markdown",
   "id": "8e04ac8a",
   "metadata": {
    "graffitiCellId": "id_wrvc4qg",
    "pycharm": {
     "name": "#%% md\n"
    }
   },
   "source": [
    "The Kalman filter is an optimal state estimator for linear systems. It minimizes the steady state error covariance between the estimated states $\\hat{x}(k)$ and the true state $x(k)$, assuming the prescense of **gaussian** measurement and process noise:\n",
    "\n",
    "$$\n",
    "\\begin{align}\n",
    "x_{k+1} &= Ax_k + Bu_k + w_x \\\\\n",
    "y_{k} &= Cx_k + w_y\n",
    "\\end{align}\n",
    "$$\n",
    "\n",
    "\n",
    "with $w_x\\sim\\mathcal{N}(0,Q)$, and $w_y\\sim\\mathcal{N}(0,R)$ and gaussian distribution of the initial estimate $x_0\\sim\\mathcal{N}(0,P)$. \n",
    "\n",
    "\n",
    "The Kalman filter algorithm has the following steps which are executed at each iteration. \n",
    "\n",
    "**Prediction Step**\n",
    "\n",
    "1. Predict state Ahead\n",
    "\n",
    "\\begin{equation}\n",
    "\\hat {x}^{-}_{k} = A\\hat{x}_{k-1} + B u_{k-1}\n",
    "\\end{equation}\n",
    "\n",
    "2. Predict Covariance Ahead\n",
    "\n",
    "\\begin{equation}\n",
    "P^{-}_{k} = AP_{k-1}A^\\top + Q\n",
    "\\end{equation}\n",
    "\n",
    "**Correction Step**\n",
    "\n",
    "1. Compute Kalman Gain :\n",
    "\n",
    "\\begin{equation}\n",
    "L_k = P^{-}_k C^\\top(CP^{-}_k C^\\top + R)^{-1}\n",
    "\\end{equation}\n",
    "\n",
    "2. Update estimate with the measurement: \n",
    "\n",
    "\\begin{equation}\n",
    "\\hat {x}_k = \\hat{x}^{-}_k + L(k)(y_k-C\\hat{x}^{-}_k)\n",
    "\\end{equation}\n",
    "\n",
    "3. Update error covariance: \n",
    "\n",
    "\\begin{equation}\n",
    "P_k=(I-L_k C)P^{-}_k\n",
    "\\end{equation}\n",
    "\n",
    "We need the matrices $Q$, $R$ and $P_{0}$ to run the algorithm which are the covariance matrices of the process and measurement noise and the estimated intial state. In our ideal setting, these matrices are known (we add the noise ourselves). In particular, we asssume again $w_x\\sim \\mathcal{N}(0,\\, I_{n_x}\\cdot10^{-6})$ and $w_y\\sim \\mathcal{N}(0,\\, 10^{-3})$ and additionally, $x_0\\sim\\mathcal{N}(0, I_{n_x})$.\n",
    "\n",
    "\n",
    "In practice, however, the matrices $Q$, $R$ and $P$ are often tuning parameters."
   ]
  },
  {
   "cell_type": "markdown",
   "id": "8c0b7d58",
   "metadata": {
    "graffitiCellId": "id_x4c2s7b",
    "pycharm": {
     "name": "#%% md\n"
    }
   },
   "source": [
    "## Initial conditions and input\n",
    "\n",
    "We define the initial conditions for the true and estimated states as well as the input to the system below."
   ]
  },
  {
   "cell_type": "code",
   "execution_count": null,
   "id": "3bec1ecb",
   "metadata": {
    "graffitiCellId": "id_w07dwcb",
    "pycharm": {
     "name": "#%%\n"
    }
   },
   "outputs": [],
   "source": [
    "# Initial condition of real process\n",
    "x0 = np.array([[0.2], [0.2], [0.2]]).reshape(nx,1)\n",
    "\n",
    "# Initial condition for observer\n",
    "x0_observer = np.array([[0.5], [0.5], [0.5]]).reshape(nx,1)\n",
    "\n",
    "# Input\n",
    "C_A0 = 1\n",
    "u = np.array([[C_A0]])"
   ]
  },
  {
   "cell_type": "markdown",
   "id": "d1c42ab7",
   "metadata": {
    "graffitiCellId": "id_d5aplyk",
    "pycharm": {
     "name": "#%% md\n"
    }
   },
   "source": [
    "## Task 11: Define noise variances and get matrices Q, R, P\n",
    "\n",
    "1. Define the noise variances ``var_x`` and ``var_y`` for the process and measurement noise.\n",
    "2. Get the matrices ``Q`` and ``R`` (check the correct dimensions).\n",
    "3. Get matrix ``P0`` - remember that we assumed  $x_0\\sim\\mathcal{N}(0, I)$."
   ]
  },
  {
   "cell_type": "code",
   "execution_count": null,
   "id": "15a4eab8",
   "metadata": {
    "graffitiCellId": "id_k9yr2d9",
    "pycharm": {
     "name": "#%%\n"
    }
   },
   "outputs": [],
   "source": [
    "# Write your code here!"
   ]
  },
  {
   "cell_type": "markdown",
   "id": "ae84df12",
   "metadata": {
    "graffitiCellId": "id_bsvlulg"
   },
   "source": [
    "<span class=\"graffiti-highlight graffiti-id_bsvlulg-id_opyc8pf\"><i></i><button>Show Solution</button></span>"
   ]
  },
  {
   "cell_type": "markdown",
   "id": "3e876df8",
   "metadata": {
    "graffitiCellId": "id_p4s81aj",
    "pycharm": {
     "name": "#%% md\n"
    }
   },
   "source": [
    "## <span class=\"graffiti-highlight graffiti-id_p4s81aj-id_0u8fagc\"><i></i>Task 12: Simulate and estimate the CSTR with Kalman filter</span>\n",
    "\n",
    "Similarly to task 9, simulate and estimate the CSTR **now with the Kalman filter**. We follow the same steps:\n",
    "1. Define the number of steps (`N_sim`) considering the desired simulation time of 60 seconds.\n",
    "2. Define the noise variances ``var_x`` and ``var_y``.\n",
    "3. Initiate lists to store the real (`x_data`) and estimated states (`x_hat_data`) and obtained measurements ``y_measured``.\n",
    "    1. These lists `x_data` and `x_hat_data` should already contain the real and estimated initial state.\n",
    "    2. During the simulation append at each iteration the results.\n",
    "4. Create a loop over the number of steps to simulate the true system behavior and the estimated states. At each iteration:\n",
    "    1. Sample values for ``w_x`` and ``w_y`` with the described variances.\n",
    "    2. Implement the prediction step and correction step of the Kalman filter. **Notice**: We start with the correction step because we have an intitial point and obtain the corresponding measurement at the first iteration.\n",
    "    3. Append the true and estimated states to ``x_data`` and ``x_hat_data`` and the obtained measurements to ``y_measured``.\n",
    "    \n",
    "**Hint:** \n",
    "- For the gaussian white noise you can use [numpy.random.normal](https://numpy.org/doc/stable/reference/random/generated/numpy.random.normal.html). Notice that the function requires the standard deviation instead of the variance."
   ]
  },
  {
   "cell_type": "code",
   "execution_count": null,
   "id": "ba022a62",
   "metadata": {
    "graffitiCellId": "id_4lpp48s",
    "pycharm": {
     "name": "#%%\n"
    }
   },
   "outputs": [],
   "source": [
    "# your code here ! "
   ]
  },
  {
   "cell_type": "markdown",
   "id": "a4897243",
   "metadata": {
    "graffitiCellId": "id_8xv2147"
   },
   "source": [
    "<span class=\"graffiti-highlight graffiti-id_8xv2147-id_9p4hyad\"><i></i><button>Show Solution</button></span>"
   ]
  },
  {
   "cell_type": "markdown",
   "id": "f37dc7dd",
   "metadata": {
    "graffitiCellId": "id_g5sy3kj"
   },
   "source": [
    "Code <span class=\"graffiti-highlight graffiti-id_g5sy3kj-id_g05w4jd\"><i></i>explanation</span>."
   ]
  },
  {
   "cell_type": "markdown",
   "id": "619f0e4b",
   "metadata": {
    "graffitiCellId": "id_qrd35d1",
    "pycharm": {
     "name": "#%% md\n"
    }
   },
   "source": [
    "## Plotting the results\n",
    "We have prepared this code to plot your simulation results:"
   ]
  },
  {
   "cell_type": "code",
   "execution_count": null,
   "id": "fc90d281",
   "metadata": {
    "graffitiCellId": "id_kx58ser",
    "pycharm": {
     "name": "#%%\n"
    }
   },
   "outputs": [],
   "source": [
    "# Make an array:\n",
    "res_x = np.concatenate(x_data, axis=1).T\n",
    "res_x_hat = np.concatenate(x_hat_data, axis=1).T\n",
    "res_y_measured = np.array(y_measured)\n",
    "\n",
    "\n",
    "# Plot\n",
    "fig_2, ax_2 = plt.subplots(figsize=(10, 6))\n",
    "time = step_size*np.arange(N_sim+1)\n",
    "\n",
    "p1, = ax_2.plot(time[1:], res_y_measured[:], 'c.')\n",
    "p2, = ax_2.plot(time, res_x[:, 0], 'b-')\n",
    "p3, = ax_2.plot(time, res_x[:, 1], 'g-')\n",
    "p4, = ax_2.plot(time, res_x[:, 2], 'r-')\n",
    "p5, = ax_2.plot(time, res_x_hat[:, 0], 'b--')\n",
    "p6, = ax_2.plot(time, res_x_hat[:, 1], 'g--')\n",
    "p7, = ax_2.plot(time, res_x_hat[:, 2], 'r--')\n",
    "\n",
    "\n",
    "\n",
    "ax_2.legend(( p1,p2, p3, p4, p5, p6, p7), ('measurements','x_1', 'x_2', 'x_3', 'x_1_observer', 'x_2_observer','x_3_observer'),\n",
    "           loc = 'upper right')\n",
    "ax_2.set_ylim(-.1,1)\n",
    "# Set labels\n",
    "ax_2.set_ylabel('state')\n",
    "ax_2.set_xlabel('time')"
   ]
  },
  {
   "cell_type": "markdown",
   "id": "523d9853",
   "metadata": {
    "graffitiCellId": "id_1rm8tl6",
    "pycharm": {
     "name": "#%% md\n"
    }
   },
   "source": [
    "Comparing the results of the luenburger observer and kalman filter, <span class=\"graffiti-highlight graffiti-id_1rm8tl6-id_gmrygr6\"><i></i>which do you think is better</span> ? "
   ]
  }
 ],
 "metadata": {
  "graffiti": {
   "firstAuthorId": "dev",
   "id": "id_puu5771",
   "language": "EN"
  },
  "kernelspec": {
   "display_name": "PAS",
   "language": "python",
   "name": "pas"
  },
  "language_info": {
   "codemirror_mode": {
    "name": "ipython",
    "version": 3
   },
   "file_extension": ".py",
   "mimetype": "text/x-python",
   "name": "python",
   "nbconvert_exporter": "python",
   "pygments_lexer": "ipython3",
   "version": "3.9.13"
  }
 },
 "nbformat": 4,
 "nbformat_minor": 5
}
