{
 "cells": [
  {
   "cell_type": "code",
   "execution_count": 1,
   "id": "20a17c4e",
   "metadata": {},
   "outputs": [],
   "source": [
    "import casadi\n",
    "import numpy as np\n",
    "import pandas as pd\n",
    "import os, sys\n",
    "import pickle\n",
    "import matplotlib as mpl\n",
    "from matplotlib import pyplot as plt"
   ]
  },
  {
   "cell_type": "code",
   "execution_count": 2,
   "id": "fbcdbc9a",
   "metadata": {},
   "outputs": [],
   "source": [
    "mpl.rcParams[\"font.size\"] = 9\n",
    "mpl.rcParams[\"lines.linewidth\"] = 3\n",
    "mpl.rcParams[\"axes.grid\"] = True"
   ]
  },
  {
   "cell_type": "code",
   "execution_count": 3,
   "id": "d23db105",
   "metadata": {},
   "outputs": [
    {
     "name": "stderr",
     "output_type": "stream",
     "text": [
      "C:\\Users\\mdiba\\anaconda3\\lib\\site-packages\\do_mpc\\__init__.py:104: UserWarning: It is recommended to use CasADi version 3.6.0 or higher. Future versions of do-mpc might not be compatible with older versions of CasADi.\n",
      "  warnings.warn(\"It is recommended to use CasADi version 3.6.0 or higher. Future versions of do-mpc might not be compatible with older versions of CasADi.\")\n"
     ]
    }
   ],
   "source": [
    "from column_variable_init_conds import template_model, template_simulator, update_u"
   ]
  },
  {
   "cell_type": "code",
   "execution_count": 4,
   "id": "1cac85f0",
   "metadata": {},
   "outputs": [],
   "source": [
    "trajectory = pd.read_pickle(\"./Data/alldata.pck\")\n",
    "index_max = len(trajectory) - 1  # 28885\n",
    "index0 = 500\n",
    "\n",
    "model = template_model(init_ind=index0)\n",
    "simulator = template_simulator(model,init_ind=index0)\n",
    "\n",
    "params_simulator = {\n",
    "    \"integration_tool\": \"idas\",\n",
    "    \"abstol\": 1e-3,\n",
    "    \"reltol\": 1e-3,\n",
    "    \"t_step\": 1,\n",
    "}\n",
    "simulator.set_param(**params_simulator)\n",
    "simulator.setup()\n",
    "simulator.set_initial_guess()"
   ]
  },
  {
   "cell_type": "code",
   "execution_count": null,
   "id": "3b3ed0f2",
   "metadata": {},
   "outputs": [
    {
     "name": "stdout",
     "output_type": "stream",
     "text": [
      "Number of steps is 1200\n",
      "\n",
      "0\n"
     ]
    }
   ],
   "source": [
    "hours = 1/3\n",
    "step_num = int(3600*hours/params_simulator[\"t_step\"])\n",
    "print(\"Number of steps is {}\\n\".format(step_num))\n",
    "t0 = index0 * params_simulator[\"t_step\"] \n",
    "\n",
    "\n",
    "\n",
    "for step in range(step_num):\n",
    "    process_time = t0 + step * params_simulator[\"t_step\"]\n",
    "    u0 = simulator.u0.master\n",
    "    update_u(simulator,trajectory=-1,use_time=True,time=process_time,getoutput=True)\n",
    "    simulator.make_step(u0)\n",
    "    if step%200 == 0:\n",
    "        print(step)\n",
    "        \n",
    "print(\"\\nSimulation is successfully finished !\")"
   ]
  },
  {
   "cell_type": "code",
   "execution_count": null,
   "id": "3d0e7bec",
   "metadata": {},
   "outputs": [],
   "source": [
    "print(idx,idx_tr)"
   ]
  },
  {
   "cell_type": "code",
   "execution_count": null,
   "id": "35b28998",
   "metadata": {
    "scrolled": false
   },
   "outputs": [],
   "source": [
    "timestep = params_simulator[\"t_step\"]\n",
    "fig, ax = plt.subplots(2,sharex=True)\n",
    "ax[0].plot(simulator.data[\"_time\"],\n",
    "        simulator.data[\"_z\",\"e0_V_V_st9\"],label=\"st 9\")\n",
    "ax[0].plot(simulator.data[\"_time\"],\n",
    "        simulator.data[\"_z\",\"e0_V_V_st7\"],label=\"st 7\")\n",
    "ax[0].plot(simulator.data[\"_time\"],\n",
    "        simulator.data[\"_z\",\"e0_V_V_st5\"],label=\"st 4\")\n",
    "ax[0].plot(simulator.data[\"_time\"],\n",
    "        simulator.data[\"_z\",\"e0_V_V_st3\"],label=\"st 2\")\n",
    "ax[0].set_ylabel(\"Vapor volume [?]\")\n",
    "ax[0].legend()\n",
    "ax[0].set_title(\"Vapor volume at stages 2,4,7 and 9\")\n",
    "\n",
    "ax[1].plot(simulator.data[\"_time\"],simulator.data[\"_z\",\"e0_V_L_st9\"],label=\"\")\n",
    "ax[1].set_ylabel(\"liquid volume\")\n",
    "ax[1].set_xlabel(\"Time in seconds\")\n",
    "ax[1].set_title(\"Liquid volume at reboiler\")"
   ]
  },
  {
   "cell_type": "code",
   "execution_count": null,
   "id": "c8651c01",
   "metadata": {},
   "outputs": [],
   "source": [
    "fig, ax1 = plt.subplots(2,sharex=True)\n",
    "ax1[0].plot(simulator.data[\"_time\"],\n",
    "            simulator.data[\"_z\",\"e0_y_st9_i1\"],label=\"y_1\")\n",
    "ax1[0].plot(simulator.data[\"_time\"],\n",
    "            simulator.data[\"_z\",\"e0_y_st9_i2\"],label=\"y_2\")\n",
    "ax1[0].plot(simulator.data[\"_time\"],\n",
    "            simulator.data[\"_z\",\"e0_y_st9_i3\"],label=\"y_N2\")\n",
    "ax1[0].set_ylabel(\"vapor fraction\")\n",
    "ax1[0].legend()\n",
    "ax1[0].set_title(\"y_i at reboiler\")\n",
    "\n",
    "\n",
    "\n",
    "ax1[1].plot(simulator.data[\"_time\"],\n",
    "            simulator.data[\"_z\",\"e0_x_st9_i1\"],label=\"x_1\")\n",
    "ax1[1].plot(simulator.data[\"_time\"],\n",
    "            simulator.data[\"_z\",\"e0_x_st9_i2\"],label=\"x_2\")\n",
    "ax1[1].plot(simulator.data[\"_time\"],\n",
    "            simulator.data[\"_z\",\"e0_x_st9_i3\"],label=\"x_N2\")\n",
    "ax1[1].set_ylabel(\"liquid fraction\")\n",
    "ax1[1].set_xlabel(\"Time in seconds\")\n",
    "ax1[1].set_title(\"x_i at reboiler\")\n",
    "ax1[1].legend()\n",
    "plt.show()"
   ]
  },
  {
   "cell_type": "code",
   "execution_count": null,
   "id": "26ce9588",
   "metadata": {
    "scrolled": false
   },
   "outputs": [],
   "source": [
    "fig, ax1 = plt.subplots(2,sharex=True)\n",
    "ax1[0].plot(simulator.data[\"_time\"],\n",
    "            simulator.data[\"_z\",\"e0_T_st9\"],label=\"st9\")\n",
    "ax1[0].plot(simulator.data[\"_time\"],\n",
    "            simulator.data[\"_z\",\"e0_T_st6\"],label=\"st6\")\n",
    "ax1[0].plot(simulator.data[\"_time\"],\n",
    "            simulator.data[\"_z\",\"e0_T_st3\"],label=\"st3\")\n",
    "ax1[0].set_ylabel(\"Temperature [K]\")\n",
    "ax1[0].legend()\n",
    "ax1[0].set_title(\"Temperature profiles at stages 3, 6 and 9\")\n",
    "\n",
    "\n",
    "\n",
    "ax1[1].plot(simulator.data[\"_time\"],\n",
    "            simulator.data[\"_z\",\"e0_V_L_st9\"],label=\"st9\")\n",
    "ax1[1].plot(simulator.data[\"_time\"],\n",
    "            simulator.data[\"_z\",\"e0_V_L_st6\"],label=\"st6\")\n",
    "ax1[1].plot(simulator.data[\"_time\"],\n",
    "            simulator.data[\"_z\",\"e0_V_L_st3\"],label=\"st3\")\n",
    "ax1[1].set_ylabel(\"liquid volume\")\n",
    "ax1[1].set_xlabel(\"Time in seconds\")\n",
    "ax1[1].legend()\n",
    "ax1[1].set_title(\"Liquid volumen at stages 3, 6 and 9\")\n",
    "plt.show()"
   ]
  },
  {
   "cell_type": "code",
   "execution_count": null,
   "id": "bcf626e6",
   "metadata": {},
   "outputs": [],
   "source": [
    "# plt.plot(simulator.data[\"_time\"],simulator.data[\"_u\",\"e0_F_F_st9\"])\n",
    "plt.plot(simulator.data[\"_time\"],simulator.data[\"_u\",\"e0_greek_sigma_R\"])"
   ]
  },
  {
   "cell_type": "code",
   "execution_count": null,
   "id": "f38de9f8",
   "metadata": {},
   "outputs": [],
   "source": [
    "def compare_plots(simulator,trajectory,var_dict:dict,index=0):\n",
    "    i = 100\n",
    "    \n",
    "    for var_type, variables in var_dict.items():\n",
    "        if var_type.lower() == \"z\":\n",
    "            spec = \"_z\"\n",
    "        elif var_type.lower() == \"u\":\n",
    "            spec = \"_u\"\n",
    "        elif var_type.lower() == \"x\":\n",
    "            spec = \"_x\"\n",
    "        \n",
    "        for z_var in variables:\n",
    "            i +=1\n",
    "            plt.figure(num=i)\n",
    "            plt.plot(simulator.data[\"_time\"],simulator.data[spec,z_var],\"bo-\",label=\"model\")\n",
    "            plt.plot(trajectory[\"Time\"],trajectory[\"Flowsheet.\"+z_var],\"y\",label=\"data\")\n",
    "            plt.legend()\n",
    "            plt.xlabel(\"Time in seconds\")\n",
    "            plt.title(z_var)\n",
    "            \n",
    "                "
   ]
  },
  {
   "cell_type": "code",
   "execution_count": null,
   "id": "7fa0addc",
   "metadata": {
    "scrolled": false
   },
   "outputs": [],
   "source": [
    "var_dict = {\"x\":[],\"z\":[\"e0_T_st9\",\"e0_V_L_st9\"],\"u\":[\"e0_F_F_st9\",\"e0_greek_sigma_R\"]}\n",
    "compare_plots(simulator,trajectory,var_dict,index=index)"
   ]
  },
  {
   "cell_type": "code",
   "execution_count": null,
   "id": "770f6a13",
   "metadata": {},
   "outputs": [],
   "source": []
  },
  {
   "cell_type": "code",
   "execution_count": null,
   "id": "0075887b",
   "metadata": {},
   "outputs": [],
   "source": []
  },
  {
   "cell_type": "code",
   "execution_count": null,
   "id": "3dabdcf6",
   "metadata": {},
   "outputs": [],
   "source": []
  },
  {
   "cell_type": "code",
   "execution_count": null,
   "id": "1d9a393b",
   "metadata": {},
   "outputs": [],
   "source": []
  },
  {
   "cell_type": "code",
   "execution_count": null,
   "id": "cd48f19a",
   "metadata": {},
   "outputs": [],
   "source": [
    "max_steps = int((index_max - index)/params_simulator[\"t_step\"])\n",
    "print(max_steps,len(trajectory),trajectory[\"Time\"])"
   ]
  },
  {
   "cell_type": "code",
   "execution_count": null,
   "id": "3dcb2874",
   "metadata": {},
   "outputs": [],
   "source": [
    "trajectory.columns"
   ]
  },
  {
   "cell_type": "code",
   "execution_count": null,
   "id": "71b07c56",
   "metadata": {},
   "outputs": [],
   "source": [
    "#print(simulator.u0.master,simulator.data[\"_u\"],sep=\"\\n\\n\")\n",
    "print(simulator.data[\"_u\"].shape,sep=\"\\n\\n\")"
   ]
  },
  {
   "cell_type": "code",
   "execution_count": null,
   "id": "1ab27fd5",
   "metadata": {},
   "outputs": [],
   "source": [
    "Rs = np.array([ u[0] for u in us    ])\n",
    "#plt.plot(Rs)\n",
    "print( len(us[0])  )"
   ]
  },
  {
   "cell_type": "code",
   "execution_count": null,
   "id": "4c7be858",
   "metadata": {},
   "outputs": [],
   "source": [
    "len(u_dicts)"
   ]
  },
  {
   "cell_type": "code",
   "execution_count": null,
   "id": "fcd0c568",
   "metadata": {},
   "outputs": [],
   "source": []
  }
 ],
 "metadata": {
  "kernelspec": {
   "display_name": "Python 3 (ipykernel)",
   "language": "python",
   "name": "python3"
  },
  "language_info": {
   "codemirror_mode": {
    "name": "ipython",
    "version": 3
   },
   "file_extension": ".py",
   "mimetype": "text/x-python",
   "name": "python",
   "nbconvert_exporter": "python",
   "pygments_lexer": "ipython3",
   "version": "3.9.13"
  }
 },
 "nbformat": 4,
 "nbformat_minor": 5
}
