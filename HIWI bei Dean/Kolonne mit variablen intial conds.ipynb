{
 "cells": [
  {
   "cell_type": "markdown",
   "id": "e5a550fb",
   "metadata": {},
   "source": [
    "# Kolonnensimulation mit variablen echten Anfangsbedingungen"
   ]
  },
  {
   "cell_type": "code",
   "execution_count": 1,
   "id": "07101f6a",
   "metadata": {},
   "outputs": [
    {
     "ename": "KeyboardInterrupt",
     "evalue": "",
     "output_type": "error",
     "traceback": [
      "\u001b[1;31m---------------------------------------------------------------------------\u001b[0m",
      "\u001b[1;31mKeyboardInterrupt\u001b[0m                         Traceback (most recent call last)",
      "\u001b[1;32m~\\AppData\\Local\\Temp\\ipykernel_5512\\1176958721.py\u001b[0m in \u001b[0;36m<module>\u001b[1;34m\u001b[0m\n\u001b[0;32m      4\u001b[0m \u001b[1;32mimport\u001b[0m \u001b[0mos\u001b[0m\u001b[1;33m,\u001b[0m \u001b[0msys\u001b[0m\u001b[1;33m\u001b[0m\u001b[1;33m\u001b[0m\u001b[0m\n\u001b[0;32m      5\u001b[0m \u001b[1;32mimport\u001b[0m \u001b[0mpickle\u001b[0m\u001b[1;33m\u001b[0m\u001b[1;33m\u001b[0m\u001b[0m\n\u001b[1;32m----> 6\u001b[1;33m \u001b[1;32mimport\u001b[0m \u001b[0mmatplotlib\u001b[0m \u001b[1;32mas\u001b[0m \u001b[0mmpl\u001b[0m\u001b[1;33m\u001b[0m\u001b[1;33m\u001b[0m\u001b[0m\n\u001b[0m\u001b[0;32m      7\u001b[0m \u001b[1;32mfrom\u001b[0m \u001b[0mmatplotlib\u001b[0m \u001b[1;32mimport\u001b[0m \u001b[0mpyplot\u001b[0m \u001b[1;32mas\u001b[0m \u001b[0mplt\u001b[0m\u001b[1;33m\u001b[0m\u001b[1;33m\u001b[0m\u001b[0m\n",
      "\u001b[1;32m~\\anaconda3\\lib\\site-packages\\matplotlib\\__init__.py\u001b[0m in \u001b[0;36m<module>\u001b[1;34m\u001b[0m\n\u001b[0;32m    206\u001b[0m \u001b[1;33m\u001b[0m\u001b[0m\n\u001b[0;32m    207\u001b[0m \u001b[1;33m\u001b[0m\u001b[0m\n\u001b[1;32m--> 208\u001b[1;33m \u001b[0m_check_versions\u001b[0m\u001b[1;33m(\u001b[0m\u001b[1;33m)\u001b[0m\u001b[1;33m\u001b[0m\u001b[1;33m\u001b[0m\u001b[0m\n\u001b[0m\u001b[0;32m    209\u001b[0m \u001b[1;33m\u001b[0m\u001b[0m\n\u001b[0;32m    210\u001b[0m \u001b[1;33m\u001b[0m\u001b[0m\n",
      "\u001b[1;32m~\\anaconda3\\lib\\site-packages\\matplotlib\\__init__.py\u001b[0m in \u001b[0;36m_check_versions\u001b[1;34m()\u001b[0m\n\u001b[0;32m    200\u001b[0m             \u001b[1;33m(\u001b[0m\u001b[1;34m\"pyparsing\"\u001b[0m\u001b[1;33m,\u001b[0m \u001b[1;34m\"2.2.1\"\u001b[0m\u001b[1;33m)\u001b[0m\u001b[1;33m,\u001b[0m\u001b[1;33m\u001b[0m\u001b[1;33m\u001b[0m\u001b[0m\n\u001b[0;32m    201\u001b[0m     ]:\n\u001b[1;32m--> 202\u001b[1;33m         \u001b[0mmodule\u001b[0m \u001b[1;33m=\u001b[0m \u001b[0mimportlib\u001b[0m\u001b[1;33m.\u001b[0m\u001b[0mimport_module\u001b[0m\u001b[1;33m(\u001b[0m\u001b[0mmodname\u001b[0m\u001b[1;33m)\u001b[0m\u001b[1;33m\u001b[0m\u001b[1;33m\u001b[0m\u001b[0m\n\u001b[0m\u001b[0;32m    203\u001b[0m         \u001b[1;32mif\u001b[0m \u001b[0mparse_version\u001b[0m\u001b[1;33m(\u001b[0m\u001b[0mmodule\u001b[0m\u001b[1;33m.\u001b[0m\u001b[0m__version__\u001b[0m\u001b[1;33m)\u001b[0m \u001b[1;33m<\u001b[0m \u001b[0mparse_version\u001b[0m\u001b[1;33m(\u001b[0m\u001b[0mminver\u001b[0m\u001b[1;33m)\u001b[0m\u001b[1;33m:\u001b[0m\u001b[1;33m\u001b[0m\u001b[1;33m\u001b[0m\u001b[0m\n\u001b[0;32m    204\u001b[0m             raise ImportError(f\"Matplotlib requires {modname}>={minver}; \"\n",
      "\u001b[1;32m~\\anaconda3\\lib\\importlib\\__init__.py\u001b[0m in \u001b[0;36mimport_module\u001b[1;34m(name, package)\u001b[0m\n\u001b[0;32m    125\u001b[0m                 \u001b[1;32mbreak\u001b[0m\u001b[1;33m\u001b[0m\u001b[1;33m\u001b[0m\u001b[0m\n\u001b[0;32m    126\u001b[0m             \u001b[0mlevel\u001b[0m \u001b[1;33m+=\u001b[0m \u001b[1;36m1\u001b[0m\u001b[1;33m\u001b[0m\u001b[1;33m\u001b[0m\u001b[0m\n\u001b[1;32m--> 127\u001b[1;33m     \u001b[1;32mreturn\u001b[0m \u001b[0m_bootstrap\u001b[0m\u001b[1;33m.\u001b[0m\u001b[0m_gcd_import\u001b[0m\u001b[1;33m(\u001b[0m\u001b[0mname\u001b[0m\u001b[1;33m[\u001b[0m\u001b[0mlevel\u001b[0m\u001b[1;33m:\u001b[0m\u001b[1;33m]\u001b[0m\u001b[1;33m,\u001b[0m \u001b[0mpackage\u001b[0m\u001b[1;33m,\u001b[0m \u001b[0mlevel\u001b[0m\u001b[1;33m)\u001b[0m\u001b[1;33m\u001b[0m\u001b[1;33m\u001b[0m\u001b[0m\n\u001b[0m\u001b[0;32m    128\u001b[0m \u001b[1;33m\u001b[0m\u001b[0m\n\u001b[0;32m    129\u001b[0m \u001b[1;33m\u001b[0m\u001b[0m\n",
      "\u001b[1;32m~\\anaconda3\\lib\\importlib\\_bootstrap.py\u001b[0m in \u001b[0;36m_gcd_import\u001b[1;34m(name, package, level)\u001b[0m\n",
      "\u001b[1;32m~\\anaconda3\\lib\\importlib\\_bootstrap.py\u001b[0m in \u001b[0;36m_find_and_load\u001b[1;34m(name, import_)\u001b[0m\n",
      "\u001b[1;32m~\\anaconda3\\lib\\importlib\\_bootstrap.py\u001b[0m in \u001b[0;36m_find_and_load_unlocked\u001b[1;34m(name, import_)\u001b[0m\n",
      "\u001b[1;32m~\\anaconda3\\lib\\importlib\\_bootstrap.py\u001b[0m in \u001b[0;36m_load_unlocked\u001b[1;34m(spec)\u001b[0m\n",
      "\u001b[1;32m~\\anaconda3\\lib\\importlib\\_bootstrap_external.py\u001b[0m in \u001b[0;36mexec_module\u001b[1;34m(self, module)\u001b[0m\n",
      "\u001b[1;32m~\\anaconda3\\lib\\importlib\\_bootstrap_external.py\u001b[0m in \u001b[0;36mget_code\u001b[1;34m(self, fullname)\u001b[0m\n",
      "\u001b[1;32m~\\anaconda3\\lib\\importlib\\_bootstrap_external.py\u001b[0m in \u001b[0;36mget_data\u001b[1;34m(self, path)\u001b[0m\n",
      "\u001b[1;31mKeyboardInterrupt\u001b[0m: "
     ]
    }
   ],
   "source": [
    "import casadi\n",
    "import numpy as np\n",
    "import pandas as pd\n",
    "import os, sys\n",
    "import pickle\n",
    "import matplotlib as mpl\n",
    "from matplotlib import pyplot as plt"
   ]
  },
  {
   "cell_type": "code",
   "execution_count": null,
   "id": "2d91ec72",
   "metadata": {},
   "outputs": [],
   "source": [
    "mpl.rcParams[\"font.size\"] = 9\n",
    "mpl.rcParams[\"lines.linewidth\"] = 3\n",
    "mpl.rcParams[\"axes.grid\"] = True"
   ]
  },
  {
   "cell_type": "code",
   "execution_count": null,
   "id": "ce8efcbd",
   "metadata": {},
   "outputs": [],
   "source": [
    "from column_variable_init_conds import template_model, template_simulator, update_u"
   ]
  },
  {
   "cell_type": "code",
   "execution_count": null,
   "id": "305973f0",
   "metadata": {},
   "outputs": [],
   "source": [
    "index = 1000\n",
    "model = template_model(init_ind=index)\n",
    "simulator = template_simulator(model,init_ind=index)\n",
    "\n",
    "params_simulator = {\n",
    "    \"integration_tool\": \"idas\",\n",
    "    \"abstol\": 1e-3,\n",
    "    \"reltol\": 1e-3,\n",
    "    \"t_step\": 0.1,\n",
    "}\n",
    "simulator.set_param(**params_simulator)\n",
    "simulator.setup()\n",
    "simulator.set_initial_guess()   "
   ]
  },
  {
   "cell_type": "code",
   "execution_count": null,
   "id": "8505cc48",
   "metadata": {},
   "outputs": [],
   "source": [
    "u0 = simulator.u0.master\n",
    "t0 = index * params_simulator[\"t_step\"]\n",
    "\n",
    "for step in range(100001):\n",
    "    process_time = simulator.data[\"_time\"][-1][0] if step > 0 else 0\n",
    "    update_u(simulator,trajectory=-1,use_time=True,time=process_time+t0,getoutput=True)\n",
    "    simulator.make_step(u0)\n",
    "    if step%200 == 0:\n",
    "        print(step)\n",
    "    #if step>0:\n",
    "        #if simulator.data[\"_time\"][-1][0]+t0 > 10:\n",
    "            "
   ]
  },
  {
   "cell_type": "code",
   "execution_count": null,
   "id": "f58917c7",
   "metadata": {},
   "outputs": [],
   "source": [
    "    timestep = params_simulator[\"t_step\"]\n",
    "    fig, ax = plt.subplots(2,sharex=True)\n",
    "    ax[0].plot(simulator.data[\"_time\"],\n",
    "            simulator.data[\"_z\",\"e0_V_V_st9\"],label=\"st 9\")\n",
    "    ax[0].plot(simulator.data[\"_time\"],\n",
    "            simulator.data[\"_z\",\"e0_V_V_st7\"],label=\"st 7\")\n",
    "    ax[0].plot(simulator.data[\"_time\"],\n",
    "            simulator.data[\"_z\",\"e0_V_V_st5\"],label=\"st 4\")\n",
    "    ax[0].plot(simulator.data[\"_time\"],\n",
    "            simulator.data[\"_z\",\"e0_V_V_st3\"],label=\"st 2\")\n",
    "    ax[0].set_ylabel(\"Dampfvolumen [?]\")\n",
    "    ax[0].legend()\n",
    "    ax[0].set_title(\"V_V_i at stages 2,4,7 and 9\")\n",
    "    \n",
    "    ax[1].plot(simulator.data[\"_time\"],simulator.data[\"_z\",\"e0_V_L_st9\"],label=\"\")\n",
    "    ax[1].set_ylabel(\"liquid volume\")\n",
    "    ax[1].set_xlabel(\"Time in seconds\")\n",
    "    ax[1].set_title(\"V_liquid at reboiler\")\n",
    "    \n",
    "    \n",
    "    fig, ax1 = plt.subplots(2,sharex=True)\n",
    "    ax1[0].plot(simulator.data[\"_time\"],\n",
    "                simulator.data[\"_z\",\"e0_y_st9_i1\"],label=\"y_1\")\n",
    "    ax1[0].plot(simulator.data[\"_time\"],\n",
    "                simulator.data[\"_z\",\"e0_y_st9_i2\"],label=\"y_2\")\n",
    "    ax1[0].plot(simulator.data[\"_time\"],\n",
    "                simulator.data[\"_z\",\"e0_y_st9_i3\"],label=\"y_N2\")\n",
    "    ax1[0].set_ylabel(\"vapor fraction\")\n",
    "    ax1[0].legend()\n",
    "    ax1[0].set_title(\"x_i and y_i at reboiler\")\n",
    "    \n",
    "    \n",
    "    \n",
    "    ax1[1].plot(simulator.data[\"_time\"],\n",
    "                simulator.data[\"_z\",\"e0_x_st9_i1\"],label=\"x_1\")\n",
    "    ax1[1].plot(simulator.data[\"_time\"],\n",
    "                simulator.data[\"_z\",\"e0_x_st9_i2\"],label=\"x_2\")\n",
    "    ax1[1].plot(simulator.data[\"_time\"],\n",
    "                simulator.data[\"_z\",\"e0_x_st9_i3\"],label=\"x_N2\")\n",
    "    ax1[1].set_ylabel(\"liquid fraction\")\n",
    "    ax1[1].set_xlabel(\"Time in seconds\")\n",
    "    ax1[1].legend()\n",
    "    plt.show()"
   ]
  },
  {
   "cell_type": "code",
   "execution_count": null,
   "id": "38933265",
   "metadata": {
    "scrolled": false
   },
   "outputs": [],
   "source": [
    "def compare_plots(simulator,trajectory,t0,var_dict:dict,index=0):\n",
    "    i = 100\n",
    "    \n",
    "    for var_type, variables in var_dict.items():\n",
    "        if var_type.lower() == \"z\":\n",
    "            spec = \"_z\"\n",
    "            color = \"b\"\n",
    "        elif var_type.lower() == \"u\":\n",
    "            spec = \"_u\"\n",
    "            color = \"k\"\n",
    "        elif var_type.lower() == \"x\":\n",
    "            spec = \"_x\"\n",
    "            color = \"b\"\n",
    "        \n",
    "        for z_var in variables:\n",
    "            ende= 30000\n",
    "            i +=1\n",
    "            plt.figure(num=i)\n",
    "            plt.plot(simulator.data[\"_time\"]+t0,simulator.data[spec,z_var],\"{}o-\".format(color),label=\"model\")\n",
    "            plt.plot(trajectory[\"Time\"],trajectory[\"Flowsheet.\"+z_var],\"y\",label=\"data\")\n",
    "            plt.legend()\n",
    "            plt.xlabel(\"Time in seconds\")\n",
    "            plt.title(z_var)\n",
    "            plt.xlim([0,400])\n",
    "\n",
    "trajectory = pd.read_pickle(\"./Data/alldata.pck\")\n",
    "var_dict = {\"x\":[],\"z\":[\"e0_T_st9\",\"e0_V_L_st9\"],\"u\":[\"e0_F_F_st9\",\"e0_greek_sigma_R\"]}\n",
    "compare_plots(simulator,trajectory,t0,var_dict,index=index)"
   ]
  },
  {
   "cell_type": "code",
   "execution_count": null,
   "id": "02860a15",
   "metadata": {},
   "outputs": [],
   "source": [
    "len(simulator.data[\"_x\"])"
   ]
  }
 ],
 "metadata": {
  "kernelspec": {
   "display_name": "Python 3 (ipykernel)",
   "language": "python",
   "name": "python3"
  },
  "language_info": {
   "codemirror_mode": {
    "name": "ipython",
    "version": 3
   },
   "file_extension": ".py",
   "mimetype": "text/x-python",
   "name": "python",
   "nbconvert_exporter": "python",
   "pygments_lexer": "ipython3",
   "version": "3.9.13"
  }
 },
 "nbformat": 4,
 "nbformat_minor": 5
}
